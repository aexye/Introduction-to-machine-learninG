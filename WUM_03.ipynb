{
  "cells": [
    {
      "cell_type": "markdown",
      "metadata": {
        "id": "7W8u8FZFIL2m"
      },
      "source": [
        "# Data Science z Python 3.10. Optymalizator, funkcja straty i early stopping\n",
        "## 🇬🇧 Data Science with Python 3.10. Optimizer, loss function and early stopping\n",
        "#### 👨‍🏫 PhD Wojciech Oronowicz-Jaśkowiak\n",
        "#### 🤖 https://github.com/aipogodzinach"
      ]
    },
    {
      "cell_type": "markdown",
      "metadata": {
        "id": "Mn_XRemkR6fM"
      },
      "source": [
        "Poniżej przedstawiony jest kod znany z poprzednich zajęć. Tym razem wprowadzimy do niego \"ulepszenia\" i zastanowimy się nad właściwym optymalizatorem i funkcją straty. Wprowadzimy również do naszego modelu podstawowy Early Stopping, który będzie zapobiegać przeuczeniu się naszego modelu."
      ]
    },
    {
      "cell_type": "markdown",
      "metadata": {
        "id": "gchK-2kPR6fM"
      },
      "source": [
        "### 1. Import bibliotek\n",
        "#### 🇬🇧 Import libraries\n",
        "W tym miejscu importujemy biblioteki, które będą nam potrzebne do wytrenowania sieci neuronowej. Jeżeli w tym miejscu widoczny będzie błąd, to konieczne jest zainstalowanie biblioteki w danym środowisku. W takim wypadku wchodzimy w terminal, aktywujemy środowisko pracy, instalujemy biblioteki (pip install X)."
      ]
    },
    {
      "cell_type": "code",
      "execution_count": 1,
      "metadata": {
        "colab": {
          "base_uri": "https://localhost:8080/"
        },
        "id": "0hk22wZDYbVQ",
        "outputId": "0ba51faf-1d0a-4892-f64e-8c5ca0b26571"
      },
      "outputs": [],
      "source": [
        "import tensorflow as tf\n",
        "import numpy as np\n",
        "import mnist\n",
        "\n",
        "from keras.models import Sequential\n",
        "from keras.layers import Dense\n",
        "from keras.layers import Dropout\n",
        "from keras.callbacks import EarlyStopping\n",
        "from keras.callbacks import ModelCheckpoint\n",
        "from keras.models import load_model\n",
        "from matplotlib import pyplot\n",
        "from tensorflow.keras.utils import to_categorical\n",
        "\n",
        "from tensorflow import keras\n",
        "from tensorflow.keras import backend as K\n",
        "\n",
        "import matplotlib.pyplot as plt\n",
        "\n",
        "# Rozpoczynamy od importu potrzebnych nam bibliotek, nowością jest EarlyStopping"
      ]
    },
    {
      "cell_type": "markdown",
      "metadata": {
        "id": "APpHwz_fR6fN"
      },
      "source": [
        "### 2. Przygotowanie danych do analizy\n",
        "#### 🇬🇧 Data preparation"
      ]
    },
    {
      "cell_type": "code",
      "execution_count": 2,
      "metadata": {
        "id": "2CPZuB2vsqBS"
      },
      "outputs": [],
      "source": [
        "train_images = mnist.train_images()\n",
        "train_labels = mnist.train_labels()\n",
        "test_images = mnist.test_images()\n",
        "test_labels = mnist.test_labels()\n",
        "\n",
        "\n",
        "\n",
        "train_images = (train_images / 255) - 0.5\n",
        "test_images = (test_images / 255) - 0.5\n",
        "\n",
        "train_images = train_images.reshape((-1, 784))\n",
        "test_images = test_images.reshape((-1, 784))\n",
        "\n",
        "model = Sequential([\n",
        "  Dense(64, activation='relu', input_shape=(784,)),\n",
        "  Dense(64, activation='relu'),\n",
        "  Dense(10, activation='softmax'),\n",
        "])\n",
        "\n",
        "train_labels = to_categorical(train_labels)\n",
        "test_labels = to_categorical(test_labels)"
      ]
    },
    {
      "cell_type": "markdown",
      "metadata": {
        "id": "iLsO0jydsqtG"
      },
      "source": [
        "Zatrzymajmy się na chwilę w tym miejscu. Na ostatnich zajęciach modyfikowaliśmy architekturę sieci neuronowej. Teraz przyszedł czas na wybór odpowiedniego optymalizatora, metryk oraz funkcji straty."
      ]
    },
    {
      "cell_type": "code",
      "execution_count": 8,
      "metadata": {
        "id": "T-nhhMPgV6VD"
      },
      "outputs": [],
      "source": [
        "model.compile(\n",
        "  optimizer='adam',\n",
        "  loss='categorical_crossentropy',\n",
        "  metrics=['accuracy'],\n",
        ")"
      ]
    },
    {
      "cell_type": "markdown",
      "metadata": {
        "id": "2TyGYkqBR6fO"
      },
      "source": [
        "### 3. Trenowanie modelu\n",
        "#### 🇬🇧 Model training"
      ]
    },
    {
      "cell_type": "code",
      "execution_count": 9,
      "metadata": {
        "colab": {
          "background_save": true,
          "base_uri": "https://localhost:8080/"
        },
        "id": "OhIvq1x3R6fO",
        "outputId": "bca8cee3-0f18-437c-c300-fbb5ce22297b"
      },
      "outputs": [
        {
          "name": "stdout",
          "output_type": "stream",
          "text": [
            "Epoch 1/100\n",
            "1857/1875 [============================>.] - ETA: 0s - loss: 0.3537 - accuracy: 0.8948\n",
            "Epoch 00001: val_loss improved from inf to 0.19627, saving model to model.h5\n",
            "1875/1875 [==============================] - 6s 3ms/step - loss: 0.3528 - accuracy: 0.8951 - val_loss: 0.1963 - val_accuracy: 0.9397\n",
            "Epoch 2/100\n",
            "1866/1875 [============================>.] - ETA: 0s - loss: 0.1806 - accuracy: 0.9458\n",
            "Epoch 00002: val_loss improved from 0.19627 to 0.16104, saving model to model.h5\n",
            "1875/1875 [==============================] - 6s 3ms/step - loss: 0.1804 - accuracy: 0.9458 - val_loss: 0.1610 - val_accuracy: 0.9503\n",
            "Epoch 3/100\n",
            "1873/1875 [============================>.] - ETA: 0s - loss: 0.1388 - accuracy: 0.9577\n",
            "Epoch 00003: val_loss improved from 0.16104 to 0.12592, saving model to model.h5\n",
            "1875/1875 [==============================] - 6s 3ms/step - loss: 0.1388 - accuracy: 0.9577 - val_loss: 0.1259 - val_accuracy: 0.9615\n",
            "Epoch 4/100\n",
            "1859/1875 [============================>.] - ETA: 0s - loss: 0.1160 - accuracy: 0.9633\n",
            "Epoch 00004: val_loss improved from 0.12592 to 0.12490, saving model to model.h5\n",
            "1875/1875 [==============================] - 5s 3ms/step - loss: 0.1157 - accuracy: 0.9634 - val_loss: 0.1249 - val_accuracy: 0.9617\n",
            "Epoch 5/100\n",
            "1862/1875 [============================>.] - ETA: 0s - loss: 0.0986 - accuracy: 0.9694\n",
            "Epoch 00005: val_loss improved from 0.12490 to 0.11730, saving model to model.h5\n",
            "1875/1875 [==============================] - 5s 3ms/step - loss: 0.0986 - accuracy: 0.9693 - val_loss: 0.1173 - val_accuracy: 0.9638\n",
            "Epoch 6/100\n",
            "1863/1875 [============================>.] - ETA: 0s - loss: 0.0912 - accuracy: 0.9713\n",
            "Epoch 00006: val_loss improved from 0.11730 to 0.10080, saving model to model.h5\n",
            "1875/1875 [==============================] - 5s 3ms/step - loss: 0.0913 - accuracy: 0.9712 - val_loss: 0.1008 - val_accuracy: 0.9684\n",
            "Epoch 7/100\n",
            "1860/1875 [============================>.] - ETA: 0s - loss: 0.0815 - accuracy: 0.9740\n",
            "Epoch 00007: val_loss did not improve from 0.10080\n",
            "1875/1875 [==============================] - 5s 3ms/step - loss: 0.0812 - accuracy: 0.9740 - val_loss: 0.1189 - val_accuracy: 0.9610\n",
            "Epoch 8/100\n",
            "1872/1875 [============================>.] - ETA: 0s - loss: 0.0732 - accuracy: 0.9762\n",
            "Epoch 00008: val_loss did not improve from 0.10080\n",
            "1875/1875 [==============================] - 5s 3ms/step - loss: 0.0732 - accuracy: 0.9762 - val_loss: 0.1050 - val_accuracy: 0.9688\n",
            "Epoch 9/100\n",
            "1860/1875 [============================>.] - ETA: 0s - loss: 0.0683 - accuracy: 0.9779\n",
            "Epoch 00009: val_loss did not improve from 0.10080\n",
            "1875/1875 [==============================] - 5s 3ms/step - loss: 0.0681 - accuracy: 0.9780 - val_loss: 0.1109 - val_accuracy: 0.9685\n",
            "Epoch 10/100\n",
            "1872/1875 [============================>.] - ETA: 0s - loss: 0.0620 - accuracy: 0.9796\n",
            "Epoch 00010: val_loss did not improve from 0.10080\n",
            "1875/1875 [==============================] - 5s 3ms/step - loss: 0.0620 - accuracy: 0.9796 - val_loss: 0.1043 - val_accuracy: 0.9710\n",
            "Epoch 11/100\n",
            "1856/1875 [============================>.] - ETA: 0s - loss: 0.0600 - accuracy: 0.9806\n",
            "Epoch 00011: val_loss improved from 0.10080 to 0.09687, saving model to model.h5\n",
            "1875/1875 [==============================] - 5s 3ms/step - loss: 0.0598 - accuracy: 0.9807 - val_loss: 0.0969 - val_accuracy: 0.9725\n",
            "Epoch 12/100\n",
            "1868/1875 [============================>.] - ETA: 0s - loss: 0.0576 - accuracy: 0.9813\n",
            "Epoch 00012: val_loss improved from 0.09687 to 0.09303, saving model to model.h5\n",
            "1875/1875 [==============================] - 5s 3ms/step - loss: 0.0575 - accuracy: 0.9813 - val_loss: 0.0930 - val_accuracy: 0.9719\n",
            "Epoch 13/100\n",
            "1866/1875 [============================>.] - ETA: 0s - loss: 0.0522 - accuracy: 0.9826\n",
            "Epoch 00013: val_loss did not improve from 0.09303\n",
            "1875/1875 [==============================] - 5s 3ms/step - loss: 0.0522 - accuracy: 0.9826 - val_loss: 0.0955 - val_accuracy: 0.9712\n",
            "Epoch 14/100\n",
            "1863/1875 [============================>.] - ETA: 0s - loss: 0.0505 - accuracy: 0.9831 ETA: 0s - loss:\n",
            "Epoch 00014: val_loss did not improve from 0.09303\n",
            "1875/1875 [==============================] - 5s 3ms/step - loss: 0.0506 - accuracy: 0.9830 - val_loss: 0.0977 - val_accuracy: 0.9746\n",
            "Epoch 15/100\n",
            "1871/1875 [============================>.] - ETA: 0s - loss: 0.0477 - accuracy: 0.9835\n",
            "Epoch 00015: val_loss did not improve from 0.09303\n",
            "1875/1875 [==============================] - 5s 3ms/step - loss: 0.0477 - accuracy: 0.9836 - val_loss: 0.1015 - val_accuracy: 0.9732\n",
            "Epoch 16/100\n",
            "1864/1875 [============================>.] - ETA: 0s - loss: 0.0448 - accuracy: 0.9851\n",
            "Epoch 00016: val_loss did not improve from 0.09303\n",
            "1875/1875 [==============================] - 5s 3ms/step - loss: 0.0448 - accuracy: 0.9851 - val_loss: 0.0973 - val_accuracy: 0.9742\n",
            "Epoch 17/100\n",
            "1868/1875 [============================>.] - ETA: 0s - loss: 0.0423 - accuracy: 0.9855\n",
            "Epoch 00017: val_loss did not improve from 0.09303\n",
            "1875/1875 [==============================] - 5s 3ms/step - loss: 0.0423 - accuracy: 0.9854 - val_loss: 0.1252 - val_accuracy: 0.9692\n",
            "Epoch 18/100\n",
            "1875/1875 [==============================] - ETA: 0s - loss: 0.0416 - accuracy: 0.9856\n",
            "Epoch 00018: val_loss did not improve from 0.09303\n",
            "1875/1875 [==============================] - 5s 3ms/step - loss: 0.0416 - accuracy: 0.9856 - val_loss: 0.1099 - val_accuracy: 0.9723\n",
            "Epoch 19/100\n",
            "1855/1875 [============================>.] - ETA: 0s - loss: 0.0404 - accuracy: 0.9869\n",
            "Epoch 00019: val_loss did not improve from 0.09303\n",
            "1875/1875 [==============================] - 5s 3ms/step - loss: 0.0403 - accuracy: 0.9869 - val_loss: 0.1010 - val_accuracy: 0.9747\n",
            "Epoch 20/100\n",
            "1875/1875 [==============================] - ETA: 0s - loss: 0.0378 - accuracy: 0.9872\n",
            "Epoch 00020: val_loss did not improve from 0.09303\n",
            "1875/1875 [==============================] - 5s 3ms/step - loss: 0.0378 - accuracy: 0.9872 - val_loss: 0.1242 - val_accuracy: 0.9712\n",
            "Epoch 21/100\n",
            "1875/1875 [==============================] - ETA: 0s - loss: 0.0358 - accuracy: 0.9879\n",
            "Epoch 00021: val_loss did not improve from 0.09303\n",
            "1875/1875 [==============================] - 5s 2ms/step - loss: 0.0358 - accuracy: 0.9879 - val_loss: 0.1205 - val_accuracy: 0.9726\n",
            "Epoch 22/100\n",
            "1859/1875 [============================>.] - ETA: 0s - loss: 0.0365 - accuracy: 0.9877\n",
            "Epoch 00022: val_loss did not improve from 0.09303\n",
            "1875/1875 [==============================] - 5s 3ms/step - loss: 0.0364 - accuracy: 0.9877 - val_loss: 0.1198 - val_accuracy: 0.9719\n",
            "Epoch 00022: early stopping\n",
            "1875/1875 [==============================] - 3s 2ms/step - loss: 0.0406 - accuracy: 0.9868\n",
            "313/313 [==============================] - 1s 2ms/step - loss: 0.0930 - accuracy: 0.9719\n",
            "[0.04060990735888481, 0.9868000149726868, 0.0930291935801506, 0.9718999862670898]\n"
          ]
        }
      ],
      "source": [
        "#1\n",
        "f1 = EarlyStopping(monitor='val_loss', patience=10, verbose=1, mode=\"auto\")\n",
        "\n",
        "#2\n",
        "f2 = ModelCheckpoint(filepath = 'model.h5',monitor='val_loss', mode='min', verbose=1, save_best_only=True)\n",
        "\n",
        "#3\n",
        "history = model.fit(train_images, train_labels, validation_data = (test_images, test_labels), callbacks = [f1,f2], verbose=1, epochs=100)\n",
        "\n",
        "#4\n",
        "trained_model = load_model('model.h5')\n",
        "\n",
        "#5\n",
        "train_accuracy = trained_model.evaluate(train_images, train_labels)\n",
        "\n",
        "#6\n",
        "test_accuracy = trained_model.evaluate(test_images, test_labels)\n",
        "\n",
        "#7\n",
        "print(train_accuracy + test_accuracy)"
      ]
    },
    {
      "cell_type": "code",
      "execution_count": 16,
      "metadata": {},
      "outputs": [
        {
          "data": {
            "image/png": "[encoded data removed]",
            "text/plain": [
              "<Figure size 576x360 with 1 Axes>"
            ]
          },
          "metadata": {
            "needs_background": "light"
          },
          "output_type": "display_data"
        }
      ],
      "source": [
        "import pandas as pd\n",
        "\n",
        "pd.DataFrame(history.history).plot(figsize=(8,5))\n",
        "plt.show()"
      ]
    },
    {
      "cell_type": "markdown",
      "metadata": {
        "id": "li4Y1654R6fP"
      },
      "source": [
        "### 📚 Zadanie 1.\n",
        "##### Przeprowadź proces uczenia się z wykorzystaniem early stopping, wykonaj poniższe kroki."
      ]
    },
    {
      "cell_type": "markdown",
      "metadata": {
        "id": "8InTZwPRCfJy"
      },
      "source": [
        "1. Stwórz nową zmienną, którą nazwiesz f1, odwołaj się do early stopping, wprowadź odpowiednie wartości do parametrów takich jak monitor, mode, verbose oraz patience.\n",
        "2. Stwórz nową zmienną, którą nazwiesz f1, odwołaj się do ModelCheckpoint, wprowadź nazwę dla swojego modelu oraz odpowiednie wartości dla parametru monitor, mode, verbose oraz save_best_only.\n",
        "3. Stwórz nową zmienną, którą nazwiesz history. Zmienna ta powinna zawierać stworzone w poprzednim kroku dane treningowe (x), etykiety danych trningowych (y), dane testowe (a), etykiedy danych testowych (b) oraz odpowiednie wartości parametrów epochs oraz verbose.\n",
        "4. Stwórz nową zmienną, którą nazwiesz trained_model, załaduj model używając nazwy modelu z punktu drugiego.\n",
        "5. Stwórz nową zmienną, którą nazwiesz trai _accuracy, odwołaj się do trained_model.evaluate, użyj danych treningowych (x) oraz etykiet danych treningowych (y).\n",
        "6. Stwórz nową zmienną, którą nazwiesz test_accuracy, odwołaj się do trained_model.evaluate, użyj danych testowych (a) oraz etykiet danych testowych (b).\n",
        "7. Przeprowadź uczenie sieci dla liczby epok wynoszącej 100 przy wartości parametru patience wynoszącej 10. Po której epoce proces trenowania sieci się zatrzyma?\n",
        "8. Wyświetl informacje dotyczące dokładności klasyfikacji na materiale treningowym oraz testowym."
      ]
    },
    {
      "cell_type": "markdown",
      "metadata": {
        "id": "9-vMmyrGR6fP"
      },
      "source": [
        "### 📚 Zadanie 2.\n",
        "##### Uruchom ponownie proces treningu sieci, tym razem wprowadzając zmianę związaną z funkcją straty oraz optymalizatora."
      ]
    },
    {
      "cell_type": "markdown",
      "metadata": {
        "id": "hpxxzs6sR6fQ"
      },
      "source": [
        "1. Wypróbuj inną funkcję straty (rozkład Poisona). Czy w przypadku naszego zbioru danych taka funkcja ma sens?\n",
        "2. Wypróbuj inny optymalizator (z wykorzystaniem algorytmu Adadelta). Czy obserwujesz jakieś zmiany w procesie uczenia się w porównaniu do algorytmu wykorzystanego w tutorialu (adam)? Gdzie może leżeć przyczyna tych różnic? (zob. https://keras.io/api/optimizers/adadelta)."
      ]
    },
    {
      "cell_type": "code",
      "execution_count": 21,
      "metadata": {
        "id": "2xiPZFscR6fQ"
      },
      "outputs": [
        {
          "name": "stdout",
          "output_type": "stream",
          "text": [
            "Epoch 1/100\n",
            "1872/1875 [============================>.] - ETA: 0s - loss: 0.1026 - accuracy: 0.9913\n",
            "Epoch 00001: val_loss improved from inf to 0.11587, saving model to model.h5\n",
            "1875/1875 [==============================] - 6s 3ms/step - loss: 0.1026 - accuracy: 0.9913 - val_loss: 0.1159 - val_accuracy: 0.9721\n",
            "Epoch 2/100\n",
            "1860/1875 [============================>.] - ETA: 0s - loss: 0.1025 - accuracy: 0.9916\n",
            "Epoch 00002: val_loss improved from 0.11587 to 0.11357, saving model to model.h5\n",
            "1875/1875 [==============================] - 5s 3ms/step - loss: 0.1025 - accuracy: 0.9916 - val_loss: 0.1136 - val_accuracy: 0.9716\n",
            "Epoch 3/100\n",
            "1855/1875 [============================>.] - ETA: 0s - loss: 0.1026 - accuracy: 0.9911\n",
            "Epoch 00003: val_loss did not improve from 0.11357\n",
            "1875/1875 [==============================] - 5s 3ms/step - loss: 0.1027 - accuracy: 0.9909 - val_loss: 0.1165 - val_accuracy: 0.9666\n",
            "Epoch 4/100\n",
            "1871/1875 [============================>.] - ETA: 0s - loss: 0.1021 - accuracy: 0.9928\n",
            "Epoch 00004: val_loss did not improve from 0.11357\n",
            "1875/1875 [==============================] - 4s 2ms/step - loss: 0.1021 - accuracy: 0.9928 - val_loss: 0.1147 - val_accuracy: 0.9721\n",
            "Epoch 5/100\n",
            "1849/1875 [============================>.] - ETA: 0s - loss: 0.1024 - accuracy: 0.9919\n",
            "Epoch 00005: val_loss did not improve from 0.11357\n",
            "1875/1875 [==============================] - 5s 3ms/step - loss: 0.1023 - accuracy: 0.9919 - val_loss: 0.1146 - val_accuracy: 0.9728\n",
            "Epoch 6/100\n",
            "1851/1875 [============================>.] - ETA: 0s - loss: 0.1021 - accuracy: 0.9930\n",
            "Epoch 00006: val_loss did not improve from 0.11357\n",
            "1875/1875 [==============================] - 4s 2ms/step - loss: 0.1021 - accuracy: 0.9930 - val_loss: 0.1150 - val_accuracy: 0.9727\n",
            "Epoch 7/100\n",
            "1873/1875 [============================>.] - ETA: 0s - loss: 0.1021 - accuracy: 0.9929\n",
            "Epoch 00007: val_loss did not improve from 0.11357\n",
            "1875/1875 [==============================] - 4s 2ms/step - loss: 0.1021 - accuracy: 0.9929 - val_loss: 0.1137 - val_accuracy: 0.9742\n",
            "Epoch 8/100\n",
            "1859/1875 [============================>.] - ETA: 0s - loss: 0.1024 - accuracy: 0.9922\n",
            "Epoch 00008: val_loss improved from 0.11357 to 0.11338, saving model to model.h5\n",
            "1875/1875 [==============================] - 4s 2ms/step - loss: 0.1024 - accuracy: 0.9922 - val_loss: 0.1134 - val_accuracy: 0.9759\n",
            "Epoch 9/100\n",
            "1869/1875 [============================>.] - ETA: 0s - loss: 0.1022 - accuracy: 0.9923\n",
            "Epoch 00009: val_loss did not improve from 0.11338\n",
            "1875/1875 [==============================] - 4s 2ms/step - loss: 0.1022 - accuracy: 0.9923 - val_loss: 0.1146 - val_accuracy: 0.9723\n",
            "Epoch 10/100\n",
            "1872/1875 [============================>.] - ETA: 0s - loss: 0.1022 - accuracy: 0.9931\n",
            "Epoch 00010: val_loss did not improve from 0.11338\n",
            "1875/1875 [==============================] - 4s 2ms/step - loss: 0.1022 - accuracy: 0.9931 - val_loss: 0.1149 - val_accuracy: 0.9733\n",
            "Epoch 11/100\n",
            "1855/1875 [============================>.] - ETA: 0s - loss: 0.1021 - accuracy: 0.9926\n",
            "Epoch 00011: val_loss did not improve from 0.11338\n",
            "1875/1875 [==============================] - 4s 2ms/step - loss: 0.1021 - accuracy: 0.9926 - val_loss: 0.1153 - val_accuracy: 0.9699\n",
            "Epoch 12/100\n",
            "1858/1875 [============================>.] - ETA: 0s - loss: 0.1019 - accuracy: 0.9935\n",
            "Epoch 00012: val_loss did not improve from 0.11338\n",
            "1875/1875 [==============================] - 4s 2ms/step - loss: 0.1019 - accuracy: 0.9935 - val_loss: 0.1135 - val_accuracy: 0.9753\n",
            "Epoch 13/100\n",
            "1872/1875 [============================>.] - ETA: 0s - loss: 0.1020 - accuracy: 0.9935\n",
            "Epoch 00013: val_loss did not improve from 0.11338\n",
            "1875/1875 [==============================] - 4s 2ms/step - loss: 0.1020 - accuracy: 0.9935 - val_loss: 0.1153 - val_accuracy: 0.9715\n",
            "Epoch 14/100\n",
            "1869/1875 [============================>.] - ETA: 0s - loss: 0.1020 - accuracy: 0.9930\n",
            "Epoch 00014: val_loss did not improve from 0.11338\n",
            "1875/1875 [==============================] - 4s 2ms/step - loss: 0.1020 - accuracy: 0.9930 - val_loss: 0.1184 - val_accuracy: 0.9693\n",
            "Epoch 15/100\n",
            "1869/1875 [============================>.] - ETA: 0s - loss: 0.1022 - accuracy: 0.9927\n",
            "Epoch 00015: val_loss did not improve from 0.11338\n",
            "1875/1875 [==============================] - 4s 2ms/step - loss: 0.1022 - accuracy: 0.9927 - val_loss: 0.1153 - val_accuracy: 0.9731\n",
            "Epoch 16/100\n",
            "1864/1875 [============================>.] - ETA: 0s - loss: 0.1019 - accuracy: 0.9938\n",
            "Epoch 00016: val_loss did not improve from 0.11338\n",
            "1875/1875 [==============================] - 4s 2ms/step - loss: 0.1019 - accuracy: 0.9938 - val_loss: 0.1206 - val_accuracy: 0.9636\n",
            "Epoch 17/100\n",
            "1866/1875 [============================>.] - ETA: 0s - loss: 0.1018 - accuracy: 0.9942\n",
            "Epoch 00017: val_loss did not improve from 0.11338\n",
            "1875/1875 [==============================] - 4s 2ms/step - loss: 0.1018 - accuracy: 0.9941 - val_loss: 0.1176 - val_accuracy: 0.9696\n",
            "Epoch 18/100\n",
            "1863/1875 [============================>.] - ETA: 0s - loss: 0.1021 - accuracy: 0.9929\n",
            "Epoch 00018: val_loss did not improve from 0.11338\n",
            "1875/1875 [==============================] - 4s 2ms/step - loss: 0.1021 - accuracy: 0.9929 - val_loss: 0.1147 - val_accuracy: 0.9744\n",
            "Epoch 00018: early stopping\n",
            "1875/1875 [==============================] - 3s 1ms/step - loss: 0.1016 - accuracy: 0.9944: 0s - loss:\n",
            "313/313 [==============================] - 1s 2ms/step - loss: 0.1134 - accuracy: 0.9759\n",
            "[0.101605124771595, 0.9943666458129883, 0.11337713897228241, 0.9758999943733215]\n"
          ]
        }
      ],
      "source": [
        "##Podpunkt 1\n",
        "\n",
        "model.compile(\n",
        "  optimizer='adam',\n",
        "  loss='Poisson',\n",
        "  metrics=['accuracy'],\n",
        ")\n",
        "\n",
        "#1\n",
        "f1 = EarlyStopping(monitor='val_loss', patience=10, verbose=1, mode=\"auto\")\n",
        "\n",
        "#2\n",
        "f2 = ModelCheckpoint(filepath = 'model.h5',monitor='val_loss', mode='min', verbose=1, save_best_only=True)\n",
        "\n",
        "#3\n",
        "history = model.fit(train_images, train_labels, validation_data = (test_images, test_labels), callbacks = [f1,f2], verbose=1, epochs=100)\n",
        "\n",
        "#4\n",
        "trained_model = load_model('model.h5')\n",
        "\n",
        "#5\n",
        "train_accuracy = trained_model.evaluate(train_images, train_labels)\n",
        "\n",
        "#6\n",
        "test_accuracy = trained_model.evaluate(test_images, test_labels)\n",
        "\n",
        "#7\n",
        "print(train_accuracy + test_accuracy)\n"
      ]
    },
    {
      "cell_type": "code",
      "execution_count": 22,
      "metadata": {},
      "outputs": [
        {
          "data": {
            "image/png": "[encoded data removed]",
            "text/plain": [
              "<Figure size 576x360 with 1 Axes>"
            ]
          },
          "metadata": {
            "needs_background": "light"
          },
          "output_type": "display_data"
        }
      ],
      "source": [
        "pd.DataFrame(history.history).plot(figsize=(8,5))\n",
        "plt.show()"
      ]
    },
    {
      "cell_type": "markdown",
      "metadata": {},
      "source": [
        "#Odpowiedź:\n",
        "\n",
        "Funkcja bazując na procesie uczenia nie do końca się do niego nadaje. Zdecydowanie lepiej nadaje się do modeli regresji. Tutaj to widać, że po drugiej epoce parametry nie ulegają żadnej poprawie i strata jest stosunkowo duża w porównaniu do pierwotnego modelu."
      ]
    },
    {
      "cell_type": "code",
      "execution_count": 23,
      "metadata": {
        "id": "O64C8u3vR6fQ"
      },
      "outputs": [
        {
          "name": "stdout",
          "output_type": "stream",
          "text": [
            "Epoch 1/100\n",
            "1860/1875 [============================>.] - ETA: 0s - loss: 0.0082 - accuracy: 0.9971\n",
            "Epoch 00001: val_loss improved from inf to 0.15458, saving model to model.h5\n",
            "1875/1875 [==============================] - 5s 3ms/step - loss: 0.0084 - accuracy: 0.9971 - val_loss: 0.1546 - val_accuracy: 0.9746\n",
            "Epoch 2/100\n",
            "1857/1875 [============================>.] - ETA: 0s - loss: 0.0081 - accuracy: 0.9971\n",
            "Epoch 00002: val_loss improved from 0.15458 to 0.15407, saving model to model.h5\n",
            "1875/1875 [==============================] - 4s 2ms/step - loss: 0.0081 - accuracy: 0.9971 - val_loss: 0.1541 - val_accuracy: 0.9748\n",
            "Epoch 3/100\n",
            "1862/1875 [============================>.] - ETA: 0s - loss: 0.0078 - accuracy: 0.9972\n",
            "Epoch 00003: val_loss improved from 0.15407 to 0.15358, saving model to model.h5\n",
            "1875/1875 [==============================] - 4s 2ms/step - loss: 0.0079 - accuracy: 0.9971 - val_loss: 0.1536 - val_accuracy: 0.9749\n",
            "Epoch 4/100\n",
            "1858/1875 [============================>.] - ETA: 0s - loss: 0.0077 - accuracy: 0.9972\n",
            "Epoch 00004: val_loss improved from 0.15358 to 0.15312, saving model to model.h5\n",
            "1875/1875 [==============================] - 4s 2ms/step - loss: 0.0076 - accuracy: 0.9972 - val_loss: 0.1531 - val_accuracy: 0.9750\n",
            "Epoch 5/100\n",
            "1870/1875 [============================>.] - ETA: 0s - loss: 0.0074 - accuracy: 0.9972\n",
            "Epoch 00005: val_loss improved from 0.15312 to 0.15270, saving model to model.h5\n",
            "1875/1875 [==============================] - 4s 2ms/step - loss: 0.0074 - accuracy: 0.9972 - val_loss: 0.1527 - val_accuracy: 0.9751\n",
            "Epoch 6/100\n",
            "1854/1875 [============================>.] - ETA: 0s - loss: 0.0073 - accuracy: 0.9973\n",
            "Epoch 00006: val_loss improved from 0.15270 to 0.15229, saving model to model.h5\n",
            "1875/1875 [==============================] - 4s 2ms/step - loss: 0.0072 - accuracy: 0.9973 - val_loss: 0.1523 - val_accuracy: 0.9751\n",
            "Epoch 7/100\n",
            "1855/1875 [============================>.] - ETA: 0s - loss: 0.0070 - accuracy: 0.9974\n",
            "Epoch 00007: val_loss improved from 0.15229 to 0.15190, saving model to model.h5\n",
            "1875/1875 [==============================] - 4s 2ms/step - loss: 0.0070 - accuracy: 0.9974 - val_loss: 0.1519 - val_accuracy: 0.9751\n",
            "Epoch 8/100\n",
            "1872/1875 [============================>.] - ETA: 0s - loss: 0.0069 - accuracy: 0.9974\n",
            "Epoch 00008: val_loss improved from 0.15190 to 0.15154, saving model to model.h5\n",
            "1875/1875 [==============================] - 4s 2ms/step - loss: 0.0069 - accuracy: 0.9974 - val_loss: 0.1515 - val_accuracy: 0.9752\n",
            "Epoch 9/100\n",
            "1869/1875 [============================>.] - ETA: 0s - loss: 0.0067 - accuracy: 0.9975\n",
            "Epoch 00009: val_loss improved from 0.15154 to 0.15119, saving model to model.h5\n",
            "1875/1875 [==============================] - 5s 3ms/step - loss: 0.0067 - accuracy: 0.9975 - val_loss: 0.1512 - val_accuracy: 0.9755\n",
            "Epoch 10/100\n",
            "1872/1875 [============================>.] - ETA: 0s - loss: 0.0065 - accuracy: 0.9976\n",
            "Epoch 00010: val_loss improved from 0.15119 to 0.15085, saving model to model.h5\n",
            "1875/1875 [==============================] - 5s 2ms/step - loss: 0.0065 - accuracy: 0.9976 - val_loss: 0.1509 - val_accuracy: 0.9755\n",
            "Epoch 11/100\n",
            "1874/1875 [============================>.] - ETA: 0s - loss: 0.0064 - accuracy: 0.9976\n",
            "Epoch 00011: val_loss improved from 0.15085 to 0.15054, saving model to model.h5\n",
            "1875/1875 [==============================] - 5s 2ms/step - loss: 0.0064 - accuracy: 0.9976 - val_loss: 0.1505 - val_accuracy: 0.9755\n",
            "Epoch 12/100\n",
            "1873/1875 [============================>.] - ETA: 0s - loss: 0.0062 - accuracy: 0.9977\n",
            "Epoch 00012: val_loss improved from 0.15054 to 0.15023, saving model to model.h5\n",
            "1875/1875 [==============================] - 5s 3ms/step - loss: 0.0062 - accuracy: 0.9977 - val_loss: 0.1502 - val_accuracy: 0.9756\n",
            "Epoch 13/100\n",
            "1849/1875 [============================>.] - ETA: 0s - loss: 0.0061 - accuracy: 0.9978\n",
            "Epoch 00013: val_loss improved from 0.15023 to 0.14993, saving model to model.h5\n",
            "1875/1875 [==============================] - 5s 3ms/step - loss: 0.0061 - accuracy: 0.9977 - val_loss: 0.1499 - val_accuracy: 0.9754\n",
            "Epoch 14/100\n",
            "1864/1875 [============================>.] - ETA: 0s - loss: 0.0060 - accuracy: 0.9978\n",
            "Epoch 00014: val_loss improved from 0.14993 to 0.14964, saving model to model.h5\n",
            "1875/1875 [==============================] - 5s 3ms/step - loss: 0.0060 - accuracy: 0.9978 - val_loss: 0.1496 - val_accuracy: 0.9755\n",
            "Epoch 15/100\n",
            "1864/1875 [============================>.] - ETA: 0s - loss: 0.0059 - accuracy: 0.9979\n",
            "Epoch 00015: val_loss improved from 0.14964 to 0.14938, saving model to model.h5\n",
            "1875/1875 [==============================] - 5s 3ms/step - loss: 0.0058 - accuracy: 0.9979 - val_loss: 0.1494 - val_accuracy: 0.9755\n",
            "Epoch 16/100\n",
            "1872/1875 [============================>.] - ETA: 0s - loss: 0.0057 - accuracy: 0.9979\n",
            "Epoch 00016: val_loss improved from 0.14938 to 0.14912, saving model to model.h5\n",
            "1875/1875 [==============================] - 5s 3ms/step - loss: 0.0057 - accuracy: 0.9979 - val_loss: 0.1491 - val_accuracy: 0.9755\n",
            "Epoch 17/100\n",
            "1870/1875 [============================>.] - ETA: 0s - loss: 0.0056 - accuracy: 0.9979\n",
            "Epoch 00017: val_loss improved from 0.14912 to 0.14888, saving model to model.h5\n",
            "1875/1875 [==============================] - 5s 3ms/step - loss: 0.0056 - accuracy: 0.9979 - val_loss: 0.1489 - val_accuracy: 0.9756\n",
            "Epoch 18/100\n",
            "1861/1875 [============================>.] - ETA: 0s - loss: 0.0055 - accuracy: 0.9980\n",
            "Epoch 00018: val_loss improved from 0.14888 to 0.14865, saving model to model.h5\n",
            "1875/1875 [==============================] - 4s 2ms/step - loss: 0.0055 - accuracy: 0.9980 - val_loss: 0.1487 - val_accuracy: 0.9757\n",
            "Epoch 19/100\n",
            "1873/1875 [============================>.] - ETA: 0s - loss: 0.0054 - accuracy: 0.9981\n",
            "Epoch 00019: val_loss improved from 0.14865 to 0.14843, saving model to model.h5\n",
            "1875/1875 [==============================] - 5s 2ms/step - loss: 0.0054 - accuracy: 0.9981 - val_loss: 0.1484 - val_accuracy: 0.9757\n",
            "Epoch 20/100\n",
            "1875/1875 [==============================] - ETA: 0s - loss: 0.0053 - accuracy: 0.9981\n",
            "Epoch 00020: val_loss improved from 0.14843 to 0.14823, saving model to model.h5\n",
            "1875/1875 [==============================] - 4s 2ms/step - loss: 0.0053 - accuracy: 0.9981 - val_loss: 0.1482 - val_accuracy: 0.9757\n",
            "Epoch 21/100\n",
            "1868/1875 [============================>.] - ETA: 0s - loss: 0.0052 - accuracy: 0.9982\n",
            "Epoch 00021: val_loss improved from 0.14823 to 0.14803, saving model to model.h5\n",
            "1875/1875 [==============================] - 5s 3ms/step - loss: 0.0052 - accuracy: 0.9982 - val_loss: 0.1480 - val_accuracy: 0.9757\n",
            "Epoch 22/100\n",
            "1872/1875 [============================>.] - ETA: 0s - loss: 0.0051 - accuracy: 0.9982\n",
            "Epoch 00022: val_loss improved from 0.14803 to 0.14784, saving model to model.h5\n",
            "1875/1875 [==============================] - 5s 3ms/step - loss: 0.0051 - accuracy: 0.9982 - val_loss: 0.1478 - val_accuracy: 0.9757\n",
            "Epoch 23/100\n",
            "1875/1875 [==============================] - ETA: 0s - loss: 0.0050 - accuracy: 0.9982\n",
            "Epoch 00023: val_loss improved from 0.14784 to 0.14767, saving model to model.h5\n",
            "1875/1875 [==============================] - 5s 3ms/step - loss: 0.0050 - accuracy: 0.9982 - val_loss: 0.1477 - val_accuracy: 0.9757\n",
            "Epoch 24/100\n",
            "1867/1875 [============================>.] - ETA: 0s - loss: 0.0049 - accuracy: 0.9983\n",
            "Epoch 00024: val_loss improved from 0.14767 to 0.14749, saving model to model.h5\n",
            "1875/1875 [==============================] - 5s 3ms/step - loss: 0.0049 - accuracy: 0.9983 - val_loss: 0.1475 - val_accuracy: 0.9756\n",
            "Epoch 25/100\n",
            "1860/1875 [============================>.] - ETA: 0s - loss: 0.0048 - accuracy: 0.9983\n",
            "Epoch 00025: val_loss improved from 0.14749 to 0.14733, saving model to model.h5\n",
            "1875/1875 [==============================] - 6s 3ms/step - loss: 0.0048 - accuracy: 0.9983 - val_loss: 0.1473 - val_accuracy: 0.9756\n",
            "Epoch 26/100\n",
            "1855/1875 [============================>.] - ETA: 0s - loss: 0.0048 - accuracy: 0.9983\n",
            "Epoch 00026: val_loss improved from 0.14733 to 0.14718, saving model to model.h5\n",
            "1875/1875 [==============================] - 5s 3ms/step - loss: 0.0047 - accuracy: 0.9983 - val_loss: 0.1472 - val_accuracy: 0.9757\n",
            "Epoch 27/100\n",
            "1862/1875 [============================>.] - ETA: 0s - loss: 0.0047 - accuracy: 0.9983\n",
            "Epoch 00027: val_loss improved from 0.14718 to 0.14702, saving model to model.h5\n",
            "1875/1875 [==============================] - 6s 3ms/step - loss: 0.0047 - accuracy: 0.9984 - val_loss: 0.1470 - val_accuracy: 0.9758\n",
            "Epoch 28/100\n",
            "1867/1875 [============================>.] - ETA: 0s - loss: 0.0046 - accuracy: 0.9984\n",
            "Epoch 00028: val_loss improved from 0.14702 to 0.14687, saving model to model.h5\n",
            "1875/1875 [==============================] - 7s 4ms/step - loss: 0.0046 - accuracy: 0.9984 - val_loss: 0.1469 - val_accuracy: 0.9758\n",
            "Epoch 29/100\n",
            "1861/1875 [============================>.] - ETA: 0s - loss: 0.0045 - accuracy: 0.9985\n",
            "Epoch 00029: val_loss improved from 0.14687 to 0.14673, saving model to model.h5\n",
            "1875/1875 [==============================] - 5s 3ms/step - loss: 0.0045 - accuracy: 0.9985 - val_loss: 0.1467 - val_accuracy: 0.9758\n",
            "Epoch 30/100\n",
            "1873/1875 [============================>.] - ETA: 0s - loss: 0.0045 - accuracy: 0.9985\n",
            "Epoch 00030: val_loss improved from 0.14673 to 0.14659, saving model to model.h5\n",
            "1875/1875 [==============================] - 5s 3ms/step - loss: 0.0044 - accuracy: 0.9985 - val_loss: 0.1466 - val_accuracy: 0.9758\n",
            "Epoch 31/100\n",
            "1867/1875 [============================>.] - ETA: 0s - loss: 0.0044 - accuracy: 0.9986\n",
            "Epoch 00031: val_loss improved from 0.14659 to 0.14646, saving model to model.h5\n",
            "1875/1875 [==============================] - 5s 3ms/step - loss: 0.0044 - accuracy: 0.9986 - val_loss: 0.1465 - val_accuracy: 0.9759\n",
            "Epoch 32/100\n",
            "1870/1875 [============================>.] - ETA: 0s - loss: 0.0043 - accuracy: 0.9986\n",
            "Epoch 00032: val_loss improved from 0.14646 to 0.14632, saving model to model.h5\n",
            "1875/1875 [==============================] - 8s 4ms/step - loss: 0.0043 - accuracy: 0.9986 - val_loss: 0.1463 - val_accuracy: 0.9761\n",
            "Epoch 33/100\n",
            "1871/1875 [============================>.] - ETA: 0s - loss: 0.0042 - accuracy: 0.9986\n",
            "Epoch 00033: val_loss improved from 0.14632 to 0.14620, saving model to model.h5\n",
            "1875/1875 [==============================] - 5s 3ms/step - loss: 0.0043 - accuracy: 0.9987 - val_loss: 0.1462 - val_accuracy: 0.9762\n",
            "Epoch 34/100\n",
            "1875/1875 [==============================] - ETA: 0s - loss: 0.0042 - accuracy: 0.9987\n",
            "Epoch 00034: val_loss improved from 0.14620 to 0.14607, saving model to model.h5\n",
            "1875/1875 [==============================] - 5s 2ms/step - loss: 0.0042 - accuracy: 0.9987 - val_loss: 0.1461 - val_accuracy: 0.9761\n",
            "Epoch 35/100\n",
            "1860/1875 [============================>.] - ETA: 0s - loss: 0.0041 - accuracy: 0.9987\n",
            "Epoch 00035: val_loss improved from 0.14607 to 0.14595, saving model to model.h5\n",
            "1875/1875 [==============================] - 6s 3ms/step - loss: 0.0041 - accuracy: 0.9987 - val_loss: 0.1460 - val_accuracy: 0.9762\n",
            "Epoch 36/100\n",
            "1857/1875 [============================>.] - ETA: 0s - loss: 0.0040 - accuracy: 0.9987\n",
            "Epoch 00036: val_loss improved from 0.14595 to 0.14584, saving model to model.h5\n",
            "1875/1875 [==============================] - 6s 3ms/step - loss: 0.0041 - accuracy: 0.9987 - val_loss: 0.1458 - val_accuracy: 0.9763\n",
            "Epoch 37/100\n",
            "1857/1875 [============================>.] - ETA: 0s - loss: 0.0040 - accuracy: 0.9987\n",
            "Epoch 00037: val_loss improved from 0.14584 to 0.14573, saving model to model.h5\n",
            "1875/1875 [==============================] - 6s 3ms/step - loss: 0.0040 - accuracy: 0.9987 - val_loss: 0.1457 - val_accuracy: 0.9763\n",
            "Epoch 38/100\n",
            "1872/1875 [============================>.] - ETA: 0s - loss: 0.0040 - accuracy: 0.9988\n",
            "Epoch 00038: val_loss improved from 0.14573 to 0.14562, saving model to model.h5\n",
            "1875/1875 [==============================] - 5s 3ms/step - loss: 0.0040 - accuracy: 0.9988 - val_loss: 0.1456 - val_accuracy: 0.9763\n",
            "Epoch 39/100\n",
            "1860/1875 [============================>.] - ETA: 0s - loss: 0.0039 - accuracy: 0.9988\n",
            "Epoch 00039: val_loss improved from 0.14562 to 0.14552, saving model to model.h5\n",
            "1875/1875 [==============================] - 5s 3ms/step - loss: 0.0039 - accuracy: 0.9988 - val_loss: 0.1455 - val_accuracy: 0.9763\n",
            "Epoch 40/100\n",
            "1875/1875 [==============================] - ETA: 0s - loss: 0.0039 - accuracy: 0.9988\n",
            "Epoch 00040: val_loss improved from 0.14552 to 0.14543, saving model to model.h5\n",
            "1875/1875 [==============================] - 7s 4ms/step - loss: 0.0039 - accuracy: 0.9988 - val_loss: 0.1454 - val_accuracy: 0.9763\n",
            "Epoch 41/100\n",
            "1872/1875 [============================>.] - ETA: 0s - loss: 0.0038 - accuracy: 0.9988\n",
            "Epoch 00041: val_loss improved from 0.14543 to 0.14534, saving model to model.h5\n",
            "1875/1875 [==============================] - 8s 4ms/step - loss: 0.0038 - accuracy: 0.9988 - val_loss: 0.1453 - val_accuracy: 0.9763\n",
            "Epoch 42/100\n",
            "1872/1875 [============================>.] - ETA: 0s - loss: 0.0038 - accuracy: 0.9988\n",
            "Epoch 00042: val_loss improved from 0.14534 to 0.14525, saving model to model.h5\n",
            "1875/1875 [==============================] - 8s 4ms/step - loss: 0.0038 - accuracy: 0.9988 - val_loss: 0.1452 - val_accuracy: 0.9763\n",
            "Epoch 43/100\n",
            "1865/1875 [============================>.] - ETA: 0s - loss: 0.0037 - accuracy: 0.9988\n",
            "Epoch 00043: val_loss improved from 0.14525 to 0.14515, saving model to model.h5\n",
            "1875/1875 [==============================] - 7s 3ms/step - loss: 0.0037 - accuracy: 0.9988 - val_loss: 0.1452 - val_accuracy: 0.9763\n",
            "Epoch 44/100\n",
            "1860/1875 [============================>.] - ETA: 0s - loss: 0.0037 - accuracy: 0.9989\n",
            "Epoch 00044: val_loss improved from 0.14515 to 0.14507, saving model to model.h5\n",
            "1875/1875 [==============================] - 7s 4ms/step - loss: 0.0037 - accuracy: 0.9988 - val_loss: 0.1451 - val_accuracy: 0.9763\n",
            "Epoch 45/100\n",
            "1868/1875 [============================>.] - ETA: 0s - loss: 0.0037 - accuracy: 0.9989\n",
            "Epoch 00045: val_loss improved from 0.14507 to 0.14499, saving model to model.h5\n",
            "1875/1875 [==============================] - 6s 3ms/step - loss: 0.0037 - accuracy: 0.9989 - val_loss: 0.1450 - val_accuracy: 0.9763\n",
            "Epoch 46/100\n",
            "1873/1875 [============================>.] - ETA: 0s - loss: 0.0036 - accuracy: 0.9989\n",
            "Epoch 00046: val_loss improved from 0.14499 to 0.14490, saving model to model.h5\n",
            "1875/1875 [==============================] - 7s 4ms/step - loss: 0.0036 - accuracy: 0.9989 - val_loss: 0.1449 - val_accuracy: 0.9763\n",
            "Epoch 47/100\n",
            "1870/1875 [============================>.] - ETA: 0s - loss: 0.0036 - accuracy: 0.9989\n",
            "Epoch 00047: val_loss improved from 0.14490 to 0.14482, saving model to model.h5\n",
            "1875/1875 [==============================] - 8s 4ms/step - loss: 0.0036 - accuracy: 0.9989 - val_loss: 0.1448 - val_accuracy: 0.9763\n",
            "Epoch 48/100\n",
            "1872/1875 [============================>.] - ETA: 0s - loss: 0.0035 - accuracy: 0.9989\n",
            "Epoch 00048: val_loss improved from 0.14482 to 0.14474, saving model to model.h5\n",
            "1875/1875 [==============================] - 7s 4ms/step - loss: 0.0035 - accuracy: 0.9989 - val_loss: 0.1447 - val_accuracy: 0.9763\n",
            "Epoch 49/100\n",
            "1874/1875 [============================>.] - ETA: 0s - loss: 0.0035 - accuracy: 0.9989\n",
            "Epoch 00049: val_loss improved from 0.14474 to 0.14467, saving model to model.h5\n",
            "1875/1875 [==============================] - 6s 3ms/step - loss: 0.0035 - accuracy: 0.9989 - val_loss: 0.1447 - val_accuracy: 0.9763\n",
            "Epoch 50/100\n",
            "1870/1875 [============================>.] - ETA: 0s - loss: 0.0035 - accuracy: 0.9989\n",
            "Epoch 00050: val_loss improved from 0.14467 to 0.14460, saving model to model.h5\n",
            "1875/1875 [==============================] - 6s 3ms/step - loss: 0.0035 - accuracy: 0.9989 - val_loss: 0.1446 - val_accuracy: 0.9763\n",
            "Epoch 51/100\n",
            "1866/1875 [============================>.] - ETA: 0s - loss: 0.0034 - accuracy: 0.9989\n",
            "Epoch 00051: val_loss improved from 0.14460 to 0.14454, saving model to model.h5\n",
            "1875/1875 [==============================] - 6s 3ms/step - loss: 0.0034 - accuracy: 0.9989 - val_loss: 0.1445 - val_accuracy: 0.9763\n",
            "Epoch 52/100\n",
            "1859/1875 [============================>.] - ETA: 0s - loss: 0.0034 - accuracy: 0.9990\n",
            "Epoch 00052: val_loss improved from 0.14454 to 0.14447, saving model to model.h5\n",
            "1875/1875 [==============================] - 6s 3ms/step - loss: 0.0034 - accuracy: 0.9990 - val_loss: 0.1445 - val_accuracy: 0.9763\n",
            "Epoch 53/100\n",
            "1866/1875 [============================>.] - ETA: 0s - loss: 0.0034 - accuracy: 0.9989\n",
            "Epoch 00053: val_loss improved from 0.14447 to 0.14441, saving model to model.h5\n",
            "1875/1875 [==============================] - 5s 3ms/step - loss: 0.0034 - accuracy: 0.9990 - val_loss: 0.1444 - val_accuracy: 0.9764\n",
            "Epoch 54/100\n",
            "1859/1875 [============================>.] - ETA: 0s - loss: 0.0033 - accuracy: 0.9989\n",
            "Epoch 00054: val_loss improved from 0.14441 to 0.14435, saving model to model.h5\n",
            "1875/1875 [==============================] - 6s 3ms/step - loss: 0.0033 - accuracy: 0.9990 - val_loss: 0.1443 - val_accuracy: 0.9764\n",
            "Epoch 55/100\n",
            "1865/1875 [============================>.] - ETA: 0s - loss: 0.0033 - accuracy: 0.9990\n",
            "Epoch 00055: val_loss improved from 0.14435 to 0.14429, saving model to model.h5\n",
            "1875/1875 [==============================] - 6s 3ms/step - loss: 0.0033 - accuracy: 0.9990 - val_loss: 0.1443 - val_accuracy: 0.9764\n",
            "Epoch 56/100\n",
            "1864/1875 [============================>.] - ETA: 0s - loss: 0.0033 - accuracy: 0.9990\n",
            "Epoch 00056: val_loss improved from 0.14429 to 0.14424, saving model to model.h5\n",
            "1875/1875 [==============================] - 7s 4ms/step - loss: 0.0033 - accuracy: 0.9990 - val_loss: 0.1442 - val_accuracy: 0.9764\n",
            "Epoch 57/100\n",
            "1859/1875 [============================>.] - ETA: 0s - loss: 0.0032 - accuracy: 0.9990\n",
            "Epoch 00057: val_loss improved from 0.14424 to 0.14417, saving model to model.h5\n",
            "1875/1875 [==============================] - 7s 4ms/step - loss: 0.0032 - accuracy: 0.9990 - val_loss: 0.1442 - val_accuracy: 0.9764\n",
            "Epoch 58/100\n",
            "1875/1875 [==============================] - ETA: 0s - loss: 0.0032 - accuracy: 0.9990\n",
            "Epoch 00058: val_loss improved from 0.14417 to 0.14411, saving model to model.h5\n",
            "1875/1875 [==============================] - 6s 3ms/step - loss: 0.0032 - accuracy: 0.9990 - val_loss: 0.1441 - val_accuracy: 0.9762\n",
            "Epoch 59/100\n",
            "1875/1875 [==============================] - ETA: 0s - loss: 0.0032 - accuracy: 0.9990\n",
            "Epoch 00059: val_loss improved from 0.14411 to 0.14407, saving model to model.h5\n",
            "1875/1875 [==============================] - 7s 4ms/step - loss: 0.0032 - accuracy: 0.9990 - val_loss: 0.1441 - val_accuracy: 0.9762\n",
            "Epoch 60/100\n",
            "1867/1875 [============================>.] - ETA: 0s - loss: 0.0032 - accuracy: 0.9990\n",
            "Epoch 00060: val_loss improved from 0.14407 to 0.14402, saving model to model.h5\n",
            "1875/1875 [==============================] - 6s 3ms/step - loss: 0.0031 - accuracy: 0.9990 - val_loss: 0.1440 - val_accuracy: 0.9763\n",
            "Epoch 61/100\n",
            "1860/1875 [============================>.] - ETA: 0s - loss: 0.0031 - accuracy: 0.9990\n",
            "Epoch 00061: val_loss improved from 0.14402 to 0.14397, saving model to model.h5\n",
            "1875/1875 [==============================] - 7s 3ms/step - loss: 0.0031 - accuracy: 0.9990 - val_loss: 0.1440 - val_accuracy: 0.9762\n",
            "Epoch 62/100\n",
            "1868/1875 [============================>.] - ETA: 0s - loss: 0.0031 - accuracy: 0.9990\n",
            "Epoch 00062: val_loss improved from 0.14397 to 0.14392, saving model to model.h5\n",
            "1875/1875 [==============================] - 5s 3ms/step - loss: 0.0031 - accuracy: 0.9991 - val_loss: 0.1439 - val_accuracy: 0.9762\n",
            "Epoch 63/100\n",
            "1868/1875 [============================>.] - ETA: 0s - loss: 0.0031 - accuracy: 0.9990\n",
            "Epoch 00063: val_loss improved from 0.14392 to 0.14387, saving model to model.h5\n",
            "1875/1875 [==============================] - 6s 3ms/step - loss: 0.0031 - accuracy: 0.9991 - val_loss: 0.1439 - val_accuracy: 0.9763\n",
            "Epoch 64/100\n",
            "1863/1875 [============================>.] - ETA: 0s - loss: 0.0030 - accuracy: 0.9990\n",
            "Epoch 00064: val_loss improved from 0.14387 to 0.14383, saving model to model.h5\n",
            "1875/1875 [==============================] - 7s 4ms/step - loss: 0.0030 - accuracy: 0.9991 - val_loss: 0.1438 - val_accuracy: 0.9763\n",
            "Epoch 65/100\n",
            "1862/1875 [============================>.] - ETA: 0s - loss: 0.0030 - accuracy: 0.9991\n",
            "Epoch 00065: val_loss improved from 0.14383 to 0.14378, saving model to model.h5\n",
            "1875/1875 [==============================] - 7s 4ms/step - loss: 0.0030 - accuracy: 0.9991 - val_loss: 0.1438 - val_accuracy: 0.9763\n",
            "Epoch 66/100\n",
            "1867/1875 [============================>.] - ETA: 0s - loss: 0.0030 - accuracy: 0.9991\n",
            "Epoch 00066: val_loss improved from 0.14378 to 0.14374, saving model to model.h5\n",
            "1875/1875 [==============================] - 8s 4ms/step - loss: 0.0030 - accuracy: 0.9991 - val_loss: 0.1437 - val_accuracy: 0.9763\n",
            "Epoch 67/100\n",
            "1870/1875 [============================>.] - ETA: 0s - loss: 0.0029 - accuracy: 0.9992\n",
            "Epoch 00067: val_loss improved from 0.14374 to 0.14370, saving model to model.h5\n",
            "1875/1875 [==============================] - 9s 5ms/step - loss: 0.0030 - accuracy: 0.9991 - val_loss: 0.1437 - val_accuracy: 0.9763\n",
            "Epoch 68/100\n",
            "1874/1875 [============================>.] - ETA: 0s - loss: 0.0029 - accuracy: 0.9991\n",
            "Epoch 00068: val_loss improved from 0.14370 to 0.14365, saving model to model.h5\n",
            "1875/1875 [==============================] - 8s 4ms/step - loss: 0.0029 - accuracy: 0.9991 - val_loss: 0.1437 - val_accuracy: 0.9764\n",
            "Epoch 69/100\n",
            "1865/1875 [============================>.] - ETA: 0s - loss: 0.0029 - accuracy: 0.9991\n",
            "Epoch 00069: val_loss improved from 0.14365 to 0.14360, saving model to model.h5\n",
            "1875/1875 [==============================] - 10s 5ms/step - loss: 0.0029 - accuracy: 0.9991 - val_loss: 0.1436 - val_accuracy: 0.9764\n",
            "Epoch 70/100\n",
            "1864/1875 [============================>.] - ETA: 0s - loss: 0.0029 - accuracy: 0.9992\n",
            "Epoch 00070: val_loss improved from 0.14360 to 0.14356, saving model to model.h5\n",
            "1875/1875 [==============================] - 6s 3ms/step - loss: 0.0029 - accuracy: 0.9992 - val_loss: 0.1436 - val_accuracy: 0.9764\n",
            "Epoch 71/100\n",
            "1874/1875 [============================>.] - ETA: 0s - loss: 0.0029 - accuracy: 0.9992\n",
            "Epoch 00071: val_loss improved from 0.14356 to 0.14351, saving model to model.h5\n",
            "1875/1875 [==============================] - 7s 4ms/step - loss: 0.0029 - accuracy: 0.9992 - val_loss: 0.1435 - val_accuracy: 0.9765\n",
            "Epoch 72/100\n",
            "1862/1875 [============================>.] - ETA: 0s - loss: 0.0029 - accuracy: 0.9992\n",
            "Epoch 00072: val_loss improved from 0.14351 to 0.14347, saving model to model.h5\n",
            "1875/1875 [==============================] - 6s 3ms/step - loss: 0.0028 - accuracy: 0.9992 - val_loss: 0.1435 - val_accuracy: 0.9765\n",
            "Epoch 73/100\n",
            "1873/1875 [============================>.] - ETA: 0s - loss: 0.0028 - accuracy: 0.9992\n",
            "Epoch 00073: val_loss improved from 0.14347 to 0.14343, saving model to model.h5\n",
            "1875/1875 [==============================] - 6s 3ms/step - loss: 0.0028 - accuracy: 0.9992 - val_loss: 0.1434 - val_accuracy: 0.9765\n",
            "Epoch 74/100\n",
            "1871/1875 [============================>.] - ETA: 0s - loss: 0.0028 - accuracy: 0.9992\n",
            "Epoch 00074: val_loss improved from 0.14343 to 0.14338, saving model to model.h5\n",
            "1875/1875 [==============================] - 7s 4ms/step - loss: 0.0028 - accuracy: 0.9992 - val_loss: 0.1434 - val_accuracy: 0.9766\n",
            "Epoch 75/100\n",
            "1868/1875 [============================>.] - ETA: 0s - loss: 0.0028 - accuracy: 0.9992\n",
            "Epoch 00075: val_loss improved from 0.14338 to 0.14334, saving model to model.h5\n",
            "1875/1875 [==============================] - 8s 4ms/step - loss: 0.0028 - accuracy: 0.9992 - val_loss: 0.1433 - val_accuracy: 0.9764\n",
            "Epoch 76/100\n",
            "1863/1875 [============================>.] - ETA: 0s - loss: 0.0028 - accuracy: 0.9992\n",
            "Epoch 00076: val_loss improved from 0.14334 to 0.14330, saving model to model.h5\n",
            "1875/1875 [==============================] - 6s 3ms/step - loss: 0.0028 - accuracy: 0.9992 - val_loss: 0.1433 - val_accuracy: 0.9764\n",
            "Epoch 77/100\n",
            "1866/1875 [============================>.] - ETA: 0s - loss: 0.0027 - accuracy: 0.9992\n",
            "Epoch 00077: val_loss improved from 0.14330 to 0.14327, saving model to model.h5\n",
            "1875/1875 [==============================] - 6s 3ms/step - loss: 0.0027 - accuracy: 0.9992 - val_loss: 0.1433 - val_accuracy: 0.9764\n",
            "Epoch 78/100\n",
            "1860/1875 [============================>.] - ETA: 0s - loss: 0.0027 - accuracy: 0.9993\n",
            "Epoch 00078: val_loss improved from 0.14327 to 0.14323, saving model to model.h5\n",
            "1875/1875 [==============================] - 6s 3ms/step - loss: 0.0027 - accuracy: 0.9993 - val_loss: 0.1432 - val_accuracy: 0.9764\n",
            "Epoch 79/100\n",
            "1868/1875 [============================>.] - ETA: 0s - loss: 0.0027 - accuracy: 0.9993\n",
            "Epoch 00079: val_loss improved from 0.14323 to 0.14319, saving model to model.h5\n",
            "1875/1875 [==============================] - 6s 3ms/step - loss: 0.0027 - accuracy: 0.9992 - val_loss: 0.1432 - val_accuracy: 0.9763\n",
            "Epoch 80/100\n",
            "1869/1875 [============================>.] - ETA: 0s - loss: 0.0027 - accuracy: 0.9992\n",
            "Epoch 00080: val_loss improved from 0.14319 to 0.14314, saving model to model.h5\n",
            "1875/1875 [==============================] - 6s 3ms/step - loss: 0.0027 - accuracy: 0.9992 - val_loss: 0.1431 - val_accuracy: 0.9763\n",
            "Epoch 81/100\n",
            "1870/1875 [============================>.] - ETA: 0s - loss: 0.0027 - accuracy: 0.9992\n",
            "Epoch 00081: val_loss improved from 0.14314 to 0.14311, saving model to model.h5\n",
            "1875/1875 [==============================] - 6s 3ms/step - loss: 0.0027 - accuracy: 0.9992 - val_loss: 0.1431 - val_accuracy: 0.9763\n",
            "Epoch 82/100\n",
            "1864/1875 [============================>.] - ETA: 0s - loss: 0.0026 - accuracy: 0.9992\n",
            "Epoch 00082: val_loss improved from 0.14311 to 0.14306, saving model to model.h5\n",
            "1875/1875 [==============================] - 6s 3ms/step - loss: 0.0027 - accuracy: 0.9992 - val_loss: 0.1431 - val_accuracy: 0.9763\n",
            "Epoch 83/100\n",
            "1874/1875 [============================>.] - ETA: 0s - loss: 0.0026 - accuracy: 0.9992\n",
            "Epoch 00083: val_loss improved from 0.14306 to 0.14302, saving model to model.h5\n",
            "1875/1875 [==============================] - 6s 3ms/step - loss: 0.0026 - accuracy: 0.9992 - val_loss: 0.1430 - val_accuracy: 0.9762\n",
            "Epoch 84/100\n",
            "1874/1875 [============================>.] - ETA: 0s - loss: 0.0026 - accuracy: 0.9992\n",
            "Epoch 00084: val_loss improved from 0.14302 to 0.14298, saving model to model.h5\n",
            "1875/1875 [==============================] - 6s 3ms/step - loss: 0.0026 - accuracy: 0.9992 - val_loss: 0.1430 - val_accuracy: 0.9762\n",
            "Epoch 85/100\n",
            "1858/1875 [============================>.] - ETA: 0s - loss: 0.0026 - accuracy: 0.9993\n",
            "Epoch 00085: val_loss improved from 0.14298 to 0.14295, saving model to model.h5\n",
            "1875/1875 [==============================] - 6s 3ms/step - loss: 0.0026 - accuracy: 0.9993 - val_loss: 0.1429 - val_accuracy: 0.9762\n",
            "Epoch 86/100\n",
            "1870/1875 [============================>.] - ETA: 0s - loss: 0.0026 - accuracy: 0.9993\n",
            "Epoch 00086: val_loss improved from 0.14295 to 0.14291, saving model to model.h5\n",
            "1875/1875 [==============================] - 6s 3ms/step - loss: 0.0026 - accuracy: 0.9993 - val_loss: 0.1429 - val_accuracy: 0.9762\n",
            "Epoch 87/100\n",
            "1868/1875 [============================>.] - ETA: 0s - loss: 0.0026 - accuracy: 0.9993\n",
            "Epoch 00087: val_loss improved from 0.14291 to 0.14287, saving model to model.h5\n",
            "1875/1875 [==============================] - 5s 3ms/step - loss: 0.0026 - accuracy: 0.9993 - val_loss: 0.1429 - val_accuracy: 0.9762\n",
            "Epoch 88/100\n",
            "1872/1875 [============================>.] - ETA: 0s - loss: 0.0026 - accuracy: 0.9993\n",
            "Epoch 00088: val_loss improved from 0.14287 to 0.14284, saving model to model.h5\n",
            "1875/1875 [==============================] - 5s 3ms/step - loss: 0.0025 - accuracy: 0.9993 - val_loss: 0.1428 - val_accuracy: 0.9762\n",
            "Epoch 89/100\n",
            "1873/1875 [============================>.] - ETA: 0s - loss: 0.0025 - accuracy: 0.9993\n",
            "Epoch 00089: val_loss improved from 0.14284 to 0.14280, saving model to model.h5\n",
            "1875/1875 [==============================] - 5s 3ms/step - loss: 0.0025 - accuracy: 0.9993 - val_loss: 0.1428 - val_accuracy: 0.9762\n",
            "Epoch 90/100\n",
            "1853/1875 [============================>.] - ETA: 0s - loss: 0.0025 - accuracy: 0.9993\n",
            "Epoch 00090: val_loss improved from 0.14280 to 0.14278, saving model to model.h5\n",
            "1875/1875 [==============================] - 5s 3ms/step - loss: 0.0025 - accuracy: 0.9993 - val_loss: 0.1428 - val_accuracy: 0.9762\n",
            "Epoch 91/100\n",
            "1868/1875 [============================>.] - ETA: 0s - loss: 0.0025 - accuracy: 0.9993\n",
            "Epoch 00091: val_loss improved from 0.14278 to 0.14275, saving model to model.h5\n",
            "1875/1875 [==============================] - 5s 3ms/step - loss: 0.0025 - accuracy: 0.9993 - val_loss: 0.1427 - val_accuracy: 0.9762\n",
            "Epoch 92/100\n",
            "1859/1875 [============================>.] - ETA: 0s - loss: 0.0025 - accuracy: 0.9993\n",
            "Epoch 00092: val_loss improved from 0.14275 to 0.14272, saving model to model.h5\n",
            "1875/1875 [==============================] - 6s 3ms/step - loss: 0.0025 - accuracy: 0.9993 - val_loss: 0.1427 - val_accuracy: 0.9762\n",
            "Epoch 93/100\n",
            "1858/1875 [============================>.] - ETA: 0s - loss: 0.0025 - accuracy: 0.9993\n",
            "Epoch 00093: val_loss improved from 0.14272 to 0.14270, saving model to model.h5\n",
            "1875/1875 [==============================] - 6s 3ms/step - loss: 0.0025 - accuracy: 0.9994 - val_loss: 0.1427 - val_accuracy: 0.9763\n",
            "Epoch 94/100\n",
            "1862/1875 [============================>.] - ETA: 0s - loss: 0.0024 - accuracy: 0.9994\n",
            "Epoch 00094: val_loss improved from 0.14270 to 0.14266, saving model to model.h5\n",
            "1875/1875 [==============================] - 6s 3ms/step - loss: 0.0025 - accuracy: 0.9994 - val_loss: 0.1427 - val_accuracy: 0.9763\n",
            "Epoch 95/100\n",
            "1866/1875 [============================>.] - ETA: 0s - loss: 0.0025 - accuracy: 0.9993\n",
            "Epoch 00095: val_loss improved from 0.14266 to 0.14264, saving model to model.h5\n",
            "1875/1875 [==============================] - 5s 3ms/step - loss: 0.0024 - accuracy: 0.9994 - val_loss: 0.1426 - val_accuracy: 0.9763\n",
            "Epoch 96/100\n",
            "1866/1875 [============================>.] - ETA: 0s - loss: 0.0024 - accuracy: 0.9994\n",
            "Epoch 00096: val_loss improved from 0.14264 to 0.14261, saving model to model.h5\n",
            "1875/1875 [==============================] - 4s 2ms/step - loss: 0.0024 - accuracy: 0.9994 - val_loss: 0.1426 - val_accuracy: 0.9763\n",
            "Epoch 97/100\n",
            "1872/1875 [============================>.] - ETA: 0s - loss: 0.0024 - accuracy: 0.9994\n",
            "Epoch 00097: val_loss improved from 0.14261 to 0.14259, saving model to model.h5\n",
            "1875/1875 [==============================] - 5s 2ms/step - loss: 0.0024 - accuracy: 0.9994 - val_loss: 0.1426 - val_accuracy: 0.9763\n",
            "Epoch 98/100\n",
            "1856/1875 [============================>.] - ETA: 0s - loss: 0.0024 - accuracy: 0.9994\n",
            "Epoch 00098: val_loss improved from 0.14259 to 0.14257, saving model to model.h5\n",
            "1875/1875 [==============================] - 4s 2ms/step - loss: 0.0024 - accuracy: 0.9994 - val_loss: 0.1426 - val_accuracy: 0.9763\n",
            "Epoch 99/100\n",
            "1868/1875 [============================>.] - ETA: 0s - loss: 0.0024 - accuracy: 0.9994\n",
            "Epoch 00099: val_loss improved from 0.14257 to 0.14254, saving model to model.h5\n",
            "1875/1875 [==============================] - 4s 2ms/step - loss: 0.0024 - accuracy: 0.9994 - val_loss: 0.1425 - val_accuracy: 0.9763\n",
            "Epoch 100/100\n",
            "1860/1875 [============================>.] - ETA: 0s - loss: 0.0024 - accuracy: 0.9994\n",
            "Epoch 00100: val_loss improved from 0.14254 to 0.14252, saving model to model.h5\n",
            "1875/1875 [==============================] - 5s 2ms/step - loss: 0.0024 - accuracy: 0.9994 - val_loss: 0.1425 - val_accuracy: 0.9763\n",
            "1875/1875 [==============================] - 3s 2ms/step - loss: 0.0024 - accuracy: 0.9994\n",
            "313/313 [==============================] - 1s 3ms/step - loss: 0.1425 - accuracy: 0.9763\n",
            "[0.002367101376876235, 0.9994166493415833, 0.14251777529716492, 0.9763000011444092]\n"
          ]
        }
      ],
      "source": [
        "##Podpunkt 2\n",
        "\n",
        "model.compile(\n",
        "  optimizer='adadelta',\n",
        "  loss='categorical_crossentropy',\n",
        "  metrics=['accuracy'],\n",
        ")\n",
        "\n",
        "#1\n",
        "f1 = EarlyStopping(monitor='val_loss', patience=10, verbose=1, mode=\"auto\")\n",
        "\n",
        "#2\n",
        "f2 = ModelCheckpoint(filepath = 'model.h5',monitor='val_loss', mode='min', verbose=1, save_best_only=True)\n",
        "\n",
        "#3\n",
        "history = model.fit(train_images, train_labels, validation_data = (test_images, test_labels), callbacks = [f1,f2], verbose=1, epochs=100)\n",
        "\n",
        "#4\n",
        "trained_model = load_model('model.h5')\n",
        "\n",
        "#5\n",
        "train_accuracy = trained_model.evaluate(train_images, train_labels)\n",
        "\n",
        "#6\n",
        "test_accuracy = trained_model.evaluate(test_images, test_labels)\n",
        "\n",
        "#7\n",
        "print(train_accuracy + test_accuracy)"
      ]
    },
    {
      "cell_type": "code",
      "execution_count": 24,
      "metadata": {},
      "outputs": [
        {
          "data": {
            "image/png": "[encoded data removed]",
            "text/plain": [
              "<Figure size 576x360 with 1 Axes>"
            ]
          },
          "metadata": {
            "needs_background": "light"
          },
          "output_type": "display_data"
        }
      ],
      "source": [
        "pd.DataFrame(history.history).plot(figsize=(8,5))\n",
        "plt.show()"
      ]
    },
    {
      "cell_type": "markdown",
      "metadata": {},
      "source": [
        "#Odpowiedź:\n",
        "\n",
        "Model już po dwóch pierwszych epokach osiąga bardzo wysokie accuracy co pokazuje doskonale wykres. Jeżeli chodzi o loss to wygląda to analogicznie po pierwszych kilku epokach osiąga bardzo niskie wartości. Różnica w tym, że ten model osiąga wysokie accuracy po pierwszych kilku epokach może być zasługą wysokiego learning rate w przypadku algorytmu adadata.\n",
        "\n",
        "\n"
      ]
    },
    {
      "cell_type": "markdown",
      "metadata": {
        "id": "x61bwRH5R6fR"
      },
      "source": [
        "### 📚 Zadanie 3.\n",
        "##### Niekiedy przydaje nam się możliwość wprowadzenia modyfikacji do funkcji straty lub zbudowania własnej funkcji straty od postaw. W Keras/Tensorflow jest to dosyć prosta rzecz, którą możemy zrealizować za pomocą podstawowych operacji."
      ]
    },
    {
      "cell_type": "markdown",
      "metadata": {
        "id": "Xjpqs_zRR6fR"
      },
      "source": [
        "Poniższy przykład ilustruje w jaki sposób możemy skorzystać z funkcji straty Root Mean Square Error (RMSE) dla dwóch zmiennych (y_true i y_pred)."
      ]
    },
    {
      "cell_type": "code",
      "execution_count": 5,
      "metadata": {
        "id": "XSF0qsNyR6fR"
      },
      "outputs": [],
      "source": [
        "y_true = 43.2\n",
        "y_pred = 4.2"
      ]
    },
    {
      "cell_type": "code",
      "execution_count": 6,
      "metadata": {
        "id": "i5kU6V0IR6fR"
      },
      "outputs": [
        {
          "data": {
            "text/plain": [
              "39.0"
            ]
          },
          "execution_count": 6,
          "metadata": {},
          "output_type": "execute_result"
        }
      ],
      "source": [
        "x = tf.keras.metrics.RootMeanSquaredError()\n",
        "x(y_true, y_pred).numpy()"
      ]
    },
    {
      "cell_type": "markdown",
      "metadata": {
        "id": "Gc5btaV4R6fS"
      },
      "source": [
        "Czasami jednak możemy chcieć stworzyć naszą własną funkcję straty (podajemy przy tym dwa argumenty, tj. y_true oraz y_pred)."
      ]
    },
    {
      "cell_type": "markdown",
      "metadata": {
        "id": "6YSGpIQuR6fS"
      },
      "source": [
        "Odtwórz wskazaną wcześniej funkcję straty Root Mean Squared Error tworząc od podstaw nową funkcję."
      ]
    },
    {
      "cell_type": "markdown",
      "metadata": {
        "id": "cj4DgCl2UmaC"
      },
      "source": [
        "![2fae41d2-cda7-466c-b672-f909e745e126.png](data:image/png;base64,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)"
      ]
    },
    {
      "cell_type": "code",
      "execution_count": 7,
      "metadata": {},
      "outputs": [
        {
          "name": "stdout",
          "output_type": "stream",
          "text": [
            "RMSE: 39.0\n"
          ]
        }
      ],
      "source": [
        "def custom_loss_function(y_true, y_pred):\n",
        "    MSE = np.square(y_true - y_pred).mean()\n",
        "    return np.sqrt(MSE)\n",
        "\n",
        "loss = custom_loss_function(y_true, y_pred)\n",
        "print('RMSE: {}'.format(loss))"
      ]
    }
  ],
  "metadata": {
    "accelerator": "GPU",
    "colab": {
      "collapsed_sections": [],
      "name": "Optymalizator, funkcja straty i early stopping.ipynb",
      "provenance": []
    },
    "kernelspec": {
      "display_name": "Python 3 (ipykernel)",
      "language": "python",
      "name": "python3"
    },
    "language_info": {
      "codemirror_mode": {
        "name": "ipython",
        "version": 3
      },
      "file_extension": ".py",
      "mimetype": "text/x-python",
      "name": "python",
      "nbconvert_exporter": "python",
      "pygments_lexer": "ipython3",
      "version": "3.8.5"
    }
  },
  "nbformat": 4,
  "nbformat_minor": 0
}
