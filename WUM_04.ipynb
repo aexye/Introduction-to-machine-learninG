{
  "cells": [
    {
      "cell_type": "markdown",
      "metadata": {
        "id": "yIIrmjGE-Fee"
      },
      "source": [
        "# Podział zbioru treningowego i miary jakości\n",
        "\n",
        "#### Danijel Koržinek <danijel@pja.edu.pl>\n",
        "\n",
        "\n",
        "Uruchom poniższy blok:"
      ]
    },
    {
      "cell_type": "markdown",
      "metadata": {},
      "source": [
        "Maciej Ostrowski s25754 "
      ]
    },
    {
      "cell_type": "code",
      "execution_count": 2,
      "metadata": {
        "id": "6I9j1MNC60uY"
      },
      "outputs": [
        {
          "name": "stdout",
          "output_type": "stream",
          "text": [
            "Populating the interactive namespace from numpy and matplotlib\n"
          ]
        }
      ],
      "source": [
        "import warnings\n",
        "warnings.filterwarnings(\"ignore\", category=FutureWarning) \n",
        "warnings.filterwarnings(\"ignore\", category=RuntimeWarning)  \n",
        "%pylab inline"
      ]
    },
    {
      "cell_type": "markdown",
      "metadata": {
        "id": "HmARYkEC-Cj_"
      },
      "source": [
        "Zacznijmy od wczytania zbioru danych z biblioteki `sklearn.datasets`. Zapisz wynik funkcji `load_breast_cancer` do zmiennej:"
      ]
    },
    {
      "cell_type": "code",
      "execution_count": 3,
      "metadata": {
        "id": "Ntz-Nng9Oi0p"
      },
      "outputs": [
        {
          "data": {
            "text/plain": [
              "{'data': array([[1.799e+01, 1.038e+01, 1.228e+02, ..., 2.654e-01, 4.601e-01,\n",
              "         1.189e-01],\n",
              "        [2.057e+01, 1.777e+01, 1.329e+02, ..., 1.860e-01, 2.750e-01,\n",
              "         8.902e-02],\n",
              "        [1.969e+01, 2.125e+01, 1.300e+02, ..., 2.430e-01, 3.613e-01,\n",
              "         8.758e-02],\n",
              "        ...,\n",
              "        [1.660e+01, 2.808e+01, 1.083e+02, ..., 1.418e-01, 2.218e-01,\n",
              "         7.820e-02],\n",
              "        [2.060e+01, 2.933e+01, 1.401e+02, ..., 2.650e-01, 4.087e-01,\n",
              "         1.240e-01],\n",
              "        [7.760e+00, 2.454e+01, 4.792e+01, ..., 0.000e+00, 2.871e-01,\n",
              "         7.039e-02]]),\n",
              " 'target': array([0, 0, 0, 0, 0, 0, 0, 0, 0, 0, 0, 0, 0, 0, 0, 0, 0, 0, 0, 1, 1, 1,\n",
              "        0, 0, 0, 0, 0, 0, 0, 0, 0, 0, 0, 0, 0, 0, 0, 1, 0, 0, 0, 0, 0, 0,\n",
              "        0, 0, 1, 0, 1, 1, 1, 1, 1, 0, 0, 1, 0, 0, 1, 1, 1, 1, 0, 1, 0, 0,\n",
              "        1, 1, 1, 1, 0, 1, 0, 0, 1, 0, 1, 0, 0, 1, 1, 1, 0, 0, 1, 0, 0, 0,\n",
              "        1, 1, 1, 0, 1, 1, 0, 0, 1, 1, 1, 0, 0, 1, 1, 1, 1, 0, 1, 1, 0, 1,\n",
              "        1, 1, 1, 1, 1, 1, 1, 0, 0, 0, 1, 0, 0, 1, 1, 1, 0, 0, 1, 0, 1, 0,\n",
              "        0, 1, 0, 0, 1, 1, 0, 1, 1, 0, 1, 1, 1, 1, 0, 1, 1, 1, 1, 1, 1, 1,\n",
              "        1, 1, 0, 1, 1, 1, 1, 0, 0, 1, 0, 1, 1, 0, 0, 1, 1, 0, 0, 1, 1, 1,\n",
              "        1, 0, 1, 1, 0, 0, 0, 1, 0, 1, 0, 1, 1, 1, 0, 1, 1, 0, 0, 1, 0, 0,\n",
              "        0, 0, 1, 0, 0, 0, 1, 0, 1, 0, 1, 1, 0, 1, 0, 0, 0, 0, 1, 1, 0, 0,\n",
              "        1, 1, 1, 0, 1, 1, 1, 1, 1, 0, 0, 1, 1, 0, 1, 1, 0, 0, 1, 0, 1, 1,\n",
              "        1, 1, 0, 1, 1, 1, 1, 1, 0, 1, 0, 0, 0, 0, 0, 0, 0, 0, 0, 0, 0, 0,\n",
              "        0, 0, 1, 1, 1, 1, 1, 1, 0, 1, 0, 1, 1, 0, 1, 1, 0, 1, 0, 0, 1, 1,\n",
              "        1, 1, 1, 1, 1, 1, 1, 1, 1, 1, 1, 0, 1, 1, 0, 1, 0, 1, 1, 1, 1, 1,\n",
              "        1, 1, 1, 1, 1, 1, 1, 1, 1, 0, 1, 1, 1, 0, 1, 0, 1, 1, 1, 1, 0, 0,\n",
              "        0, 1, 1, 1, 1, 0, 1, 0, 1, 0, 1, 1, 1, 0, 1, 1, 1, 1, 1, 1, 1, 0,\n",
              "        0, 0, 1, 1, 1, 1, 1, 1, 1, 1, 1, 1, 1, 0, 0, 1, 0, 0, 0, 1, 0, 0,\n",
              "        1, 1, 1, 1, 1, 0, 1, 1, 1, 1, 1, 0, 1, 1, 1, 0, 1, 1, 0, 0, 1, 1,\n",
              "        1, 1, 1, 1, 0, 1, 1, 1, 1, 1, 1, 1, 0, 1, 1, 1, 1, 1, 0, 1, 1, 0,\n",
              "        1, 1, 1, 1, 1, 1, 1, 1, 1, 1, 1, 1, 0, 1, 0, 0, 1, 0, 1, 1, 1, 1,\n",
              "        1, 0, 1, 1, 0, 1, 0, 1, 1, 0, 1, 0, 1, 1, 1, 1, 1, 1, 1, 1, 0, 0,\n",
              "        1, 1, 1, 1, 1, 1, 0, 1, 1, 1, 1, 1, 1, 1, 1, 1, 1, 0, 1, 1, 1, 1,\n",
              "        1, 1, 1, 0, 1, 0, 1, 1, 0, 1, 1, 1, 1, 1, 0, 0, 1, 0, 1, 0, 1, 1,\n",
              "        1, 1, 1, 0, 1, 1, 0, 1, 0, 1, 0, 0, 1, 1, 1, 0, 1, 1, 1, 1, 1, 1,\n",
              "        1, 1, 1, 1, 1, 0, 1, 0, 0, 1, 1, 1, 1, 1, 1, 1, 1, 1, 1, 1, 1, 1,\n",
              "        1, 1, 1, 1, 1, 1, 1, 1, 1, 1, 1, 1, 0, 0, 0, 0, 0, 0, 1]),\n",
              " 'frame': None,\n",
              " 'target_names': array(['malignant', 'benign'], dtype='<U9'),\n",
              " 'DESCR': '.. _breast_cancer_dataset:\\n\\nBreast cancer wisconsin (diagnostic) dataset\\n--------------------------------------------\\n\\n**Data Set Characteristics:**\\n\\n    :Number of Instances: 569\\n\\n    :Number of Attributes: 30 numeric, predictive attributes and the class\\n\\n    :Attribute Information:\\n        - radius (mean of distances from center to points on the perimeter)\\n        - texture (standard deviation of gray-scale values)\\n        - perimeter\\n        - area\\n        - smoothness (local variation in radius lengths)\\n        - compactness (perimeter^2 / area - 1.0)\\n        - concavity (severity of concave portions of the contour)\\n        - concave points (number of concave portions of the contour)\\n        - symmetry\\n        - fractal dimension (\"coastline approximation\" - 1)\\n\\n        The mean, standard error, and \"worst\" or largest (mean of the three\\n        worst/largest values) of these features were computed for each image,\\n        resulting in 30 features.  For instance, field 0 is Mean Radius, field\\n        10 is Radius SE, field 20 is Worst Radius.\\n\\n        - class:\\n                - WDBC-Malignant\\n                - WDBC-Benign\\n\\n    :Summary Statistics:\\n\\n    ===================================== ====== ======\\n                                           Min    Max\\n    ===================================== ====== ======\\n    radius (mean):                        6.981  28.11\\n    texture (mean):                       9.71   39.28\\n    perimeter (mean):                     43.79  188.5\\n    area (mean):                          143.5  2501.0\\n    smoothness (mean):                    0.053  0.163\\n    compactness (mean):                   0.019  0.345\\n    concavity (mean):                     0.0    0.427\\n    concave points (mean):                0.0    0.201\\n    symmetry (mean):                      0.106  0.304\\n    fractal dimension (mean):             0.05   0.097\\n    radius (standard error):              0.112  2.873\\n    texture (standard error):             0.36   4.885\\n    perimeter (standard error):           0.757  21.98\\n    area (standard error):                6.802  542.2\\n    smoothness (standard error):          0.002  0.031\\n    compactness (standard error):         0.002  0.135\\n    concavity (standard error):           0.0    0.396\\n    concave points (standard error):      0.0    0.053\\n    symmetry (standard error):            0.008  0.079\\n    fractal dimension (standard error):   0.001  0.03\\n    radius (worst):                       7.93   36.04\\n    texture (worst):                      12.02  49.54\\n    perimeter (worst):                    50.41  251.2\\n    area (worst):                         185.2  4254.0\\n    smoothness (worst):                   0.071  0.223\\n    compactness (worst):                  0.027  1.058\\n    concavity (worst):                    0.0    1.252\\n    concave points (worst):               0.0    0.291\\n    symmetry (worst):                     0.156  0.664\\n    fractal dimension (worst):            0.055  0.208\\n    ===================================== ====== ======\\n\\n    :Missing Attribute Values: None\\n\\n    :Class Distribution: 212 - Malignant, 357 - Benign\\n\\n    :Creator:  Dr. William H. Wolberg, W. Nick Street, Olvi L. Mangasarian\\n\\n    :Donor: Nick Street\\n\\n    :Date: November, 1995\\n\\nThis is a copy of UCI ML Breast Cancer Wisconsin (Diagnostic) datasets.\\nhttps://goo.gl/U2Uwz2\\n\\nFeatures are computed from a digitized image of a fine needle\\naspirate (FNA) of a breast mass.  They describe\\ncharacteristics of the cell nuclei present in the image.\\n\\nSeparating plane described above was obtained using\\nMultisurface Method-Tree (MSM-T) [K. P. Bennett, \"Decision Tree\\nConstruction Via Linear Programming.\" Proceedings of the 4th\\nMidwest Artificial Intelligence and Cognitive Science Society,\\npp. 97-101, 1992], a classification method which uses linear\\nprogramming to construct a decision tree.  Relevant features\\nwere selected using an exhaustive search in the space of 1-4\\nfeatures and 1-3 separating planes.\\n\\nThe actual linear program used to obtain the separating plane\\nin the 3-dimensional space is that described in:\\n[K. P. Bennett and O. L. Mangasarian: \"Robust Linear\\nProgramming Discrimination of Two Linearly Inseparable Sets\",\\nOptimization Methods and Software 1, 1992, 23-34].\\n\\nThis database is also available through the UW CS ftp server:\\n\\nftp ftp.cs.wisc.edu\\ncd math-prog/cpo-dataset/machine-learn/WDBC/\\n\\n.. topic:: References\\n\\n   - W.N. Street, W.H. Wolberg and O.L. Mangasarian. Nuclear feature extraction \\n     for breast tumor diagnosis. IS&T/SPIE 1993 International Symposium on \\n     Electronic Imaging: Science and Technology, volume 1905, pages 861-870,\\n     San Jose, CA, 1993.\\n   - O.L. Mangasarian, W.N. Street and W.H. Wolberg. Breast cancer diagnosis and \\n     prognosis via linear programming. Operations Research, 43(4), pages 570-577, \\n     July-August 1995.\\n   - W.H. Wolberg, W.N. Street, and O.L. Mangasarian. Machine learning techniques\\n     to diagnose breast cancer from fine-needle aspirates. Cancer Letters 77 (1994) \\n     163-171.',\n",
              " 'feature_names': array(['mean radius', 'mean texture', 'mean perimeter', 'mean area',\n",
              "        'mean smoothness', 'mean compactness', 'mean concavity',\n",
              "        'mean concave points', 'mean symmetry', 'mean fractal dimension',\n",
              "        'radius error', 'texture error', 'perimeter error', 'area error',\n",
              "        'smoothness error', 'compactness error', 'concavity error',\n",
              "        'concave points error', 'symmetry error',\n",
              "        'fractal dimension error', 'worst radius', 'worst texture',\n",
              "        'worst perimeter', 'worst area', 'worst smoothness',\n",
              "        'worst compactness', 'worst concavity', 'worst concave points',\n",
              "        'worst symmetry', 'worst fractal dimension'], dtype='<U23'),\n",
              " 'filename': 'c:\\\\Users\\\\ostri\\\\anaconda3\\\\lib\\\\site-packages\\\\sklearn\\\\datasets\\\\data\\\\breast_cancer.csv'}"
            ]
          },
          "execution_count": 3,
          "metadata": {},
          "output_type": "execute_result"
        }
      ],
      "source": [
        "from sklearn.datasets import load_breast_cancer\n",
        "\n",
        "df = load_breast_cancer()\n",
        "\n",
        "df"
      ]
    },
    {
      "cell_type": "markdown",
      "metadata": {
        "id": "2ehB8jor-kf2"
      },
      "source": [
        "Wypisz wszystkie składowe `keys()` otrzymanego zbioru:"
      ]
    },
    {
      "cell_type": "code",
      "execution_count": 4,
      "metadata": {
        "id": "Nt6oOEYRPGkQ"
      },
      "outputs": [
        {
          "name": "stdout",
          "output_type": "stream",
          "text": [
            "dict_keys(['data', 'target', 'frame', 'target_names', 'DESCR', 'feature_names', 'filename'])\n"
          ]
        }
      ],
      "source": [
        "print(df.keys())"
      ]
    },
    {
      "cell_type": "markdown",
      "metadata": {
        "id": "VNrE4rE_-r5l"
      },
      "source": [
        "Zobaczmy składową `DESCR`:"
      ]
    },
    {
      "cell_type": "code",
      "execution_count": 5,
      "metadata": {
        "id": "u9LwcsQ_PHPi"
      },
      "outputs": [
        {
          "name": "stdout",
          "output_type": "stream",
          "text": [
            ".. _breast_cancer_dataset:\n",
            "\n",
            "Breast cancer wisconsin (diagnostic) dataset\n",
            "--------------------------------------------\n",
            "\n",
            "**Data Set Characteristics:**\n",
            "\n",
            "    :Number of Instances: 569\n",
            "\n",
            "    :Number of Attributes: 30 numeric, predictive attributes and the class\n",
            "\n",
            "    :Attribute Information:\n",
            "        - radius (mean of distances from center to points on the perimeter)\n",
            "        - texture (standard deviation of gray-scale values)\n",
            "        - perimeter\n",
            "        - area\n",
            "        - smoothness (local variation in radius lengths)\n",
            "        - compactness (perimeter^2 / area - 1.0)\n",
            "        - concavity (severity of concave portions of the contour)\n",
            "        - concave points (number of concave portions of the contour)\n",
            "        - symmetry\n",
            "        - fractal dimension (\"coastline approximation\" - 1)\n",
            "\n",
            "        The mean, standard error, and \"worst\" or largest (mean of the three\n",
            "        worst/largest values) of these features were computed for each image,\n",
            "        resulting in 30 features.  For instance, field 0 is Mean Radius, field\n",
            "        10 is Radius SE, field 20 is Worst Radius.\n",
            "\n",
            "        - class:\n",
            "                - WDBC-Malignant\n",
            "                - WDBC-Benign\n",
            "\n",
            "    :Summary Statistics:\n",
            "\n",
            "    ===================================== ====== ======\n",
            "                                           Min    Max\n",
            "    ===================================== ====== ======\n",
            "    radius (mean):                        6.981  28.11\n",
            "    texture (mean):                       9.71   39.28\n",
            "    perimeter (mean):                     43.79  188.5\n",
            "    area (mean):                          143.5  2501.0\n",
            "    smoothness (mean):                    0.053  0.163\n",
            "    compactness (mean):                   0.019  0.345\n",
            "    concavity (mean):                     0.0    0.427\n",
            "    concave points (mean):                0.0    0.201\n",
            "    symmetry (mean):                      0.106  0.304\n",
            "    fractal dimension (mean):             0.05   0.097\n",
            "    radius (standard error):              0.112  2.873\n",
            "    texture (standard error):             0.36   4.885\n",
            "    perimeter (standard error):           0.757  21.98\n",
            "    area (standard error):                6.802  542.2\n",
            "    smoothness (standard error):          0.002  0.031\n",
            "    compactness (standard error):         0.002  0.135\n",
            "    concavity (standard error):           0.0    0.396\n",
            "    concave points (standard error):      0.0    0.053\n",
            "    symmetry (standard error):            0.008  0.079\n",
            "    fractal dimension (standard error):   0.001  0.03\n",
            "    radius (worst):                       7.93   36.04\n",
            "    texture (worst):                      12.02  49.54\n",
            "    perimeter (worst):                    50.41  251.2\n",
            "    area (worst):                         185.2  4254.0\n",
            "    smoothness (worst):                   0.071  0.223\n",
            "    compactness (worst):                  0.027  1.058\n",
            "    concavity (worst):                    0.0    1.252\n",
            "    concave points (worst):               0.0    0.291\n",
            "    symmetry (worst):                     0.156  0.664\n",
            "    fractal dimension (worst):            0.055  0.208\n",
            "    ===================================== ====== ======\n",
            "\n",
            "    :Missing Attribute Values: None\n",
            "\n",
            "    :Class Distribution: 212 - Malignant, 357 - Benign\n",
            "\n",
            "    :Creator:  Dr. William H. Wolberg, W. Nick Street, Olvi L. Mangasarian\n",
            "\n",
            "    :Donor: Nick Street\n",
            "\n",
            "    :Date: November, 1995\n",
            "\n",
            "This is a copy of UCI ML Breast Cancer Wisconsin (Diagnostic) datasets.\n",
            "https://goo.gl/U2Uwz2\n",
            "\n",
            "Features are computed from a digitized image of a fine needle\n",
            "aspirate (FNA) of a breast mass.  They describe\n",
            "characteristics of the cell nuclei present in the image.\n",
            "\n",
            "Separating plane described above was obtained using\n",
            "Multisurface Method-Tree (MSM-T) [K. P. Bennett, \"Decision Tree\n",
            "Construction Via Linear Programming.\" Proceedings of the 4th\n",
            "Midwest Artificial Intelligence and Cognitive Science Society,\n",
            "pp. 97-101, 1992], a classification method which uses linear\n",
            "programming to construct a decision tree.  Relevant features\n",
            "were selected using an exhaustive search in the space of 1-4\n",
            "features and 1-3 separating planes.\n",
            "\n",
            "The actual linear program used to obtain the separating plane\n",
            "in the 3-dimensional space is that described in:\n",
            "[K. P. Bennett and O. L. Mangasarian: \"Robust Linear\n",
            "Programming Discrimination of Two Linearly Inseparable Sets\",\n",
            "Optimization Methods and Software 1, 1992, 23-34].\n",
            "\n",
            "This database is also available through the UW CS ftp server:\n",
            "\n",
            "ftp ftp.cs.wisc.edu\n",
            "cd math-prog/cpo-dataset/machine-learn/WDBC/\n",
            "\n",
            ".. topic:: References\n",
            "\n",
            "   - W.N. Street, W.H. Wolberg and O.L. Mangasarian. Nuclear feature extraction \n",
            "     for breast tumor diagnosis. IS&T/SPIE 1993 International Symposium on \n",
            "     Electronic Imaging: Science and Technology, volume 1905, pages 861-870,\n",
            "     San Jose, CA, 1993.\n",
            "   - O.L. Mangasarian, W.N. Street and W.H. Wolberg. Breast cancer diagnosis and \n",
            "     prognosis via linear programming. Operations Research, 43(4), pages 570-577, \n",
            "     July-August 1995.\n",
            "   - W.H. Wolberg, W.N. Street, and O.L. Mangasarian. Machine learning techniques\n",
            "     to diagnose breast cancer from fine-needle aspirates. Cancer Letters 77 (1994) \n",
            "     163-171.\n"
          ]
        }
      ],
      "source": [
        "print(df['DESCR'])"
      ]
    },
    {
      "cell_type": "markdown",
      "metadata": {
        "id": "x20SpfQW-yC6"
      },
      "source": [
        "Jest to zbiór przeznaczony do binarnej klasyfikacji rzeczywistych danych liczbowych. Wypisz nazwy cech (`feature_names`) i klas (`target_names`):"
      ]
    },
    {
      "cell_type": "code",
      "execution_count": 6,
      "metadata": {
        "id": "Xdobxsx4PWfk"
      },
      "outputs": [
        {
          "name": "stdout",
          "output_type": "stream",
          "text": [
            "['mean radius' 'mean texture' 'mean perimeter' 'mean area'\n",
            " 'mean smoothness' 'mean compactness' 'mean concavity'\n",
            " 'mean concave points' 'mean symmetry' 'mean fractal dimension'\n",
            " 'radius error' 'texture error' 'perimeter error' 'area error'\n",
            " 'smoothness error' 'compactness error' 'concavity error'\n",
            " 'concave points error' 'symmetry error' 'fractal dimension error'\n",
            " 'worst radius' 'worst texture' 'worst perimeter' 'worst area'\n",
            " 'worst smoothness' 'worst compactness' 'worst concavity'\n",
            " 'worst concave points' 'worst symmetry' 'worst fractal dimension']\n",
            "['malignant' 'benign']\n"
          ]
        }
      ],
      "source": [
        "print(df['feature_names'])\n",
        "print(df['target_names'])"
      ]
    },
    {
      "cell_type": "markdown",
      "metadata": {
        "id": "5RT6lDh5-_qA"
      },
      "source": [
        "Wypisz rozmiary tablic danych (`data`) i klas (`target`):"
      ]
    },
    {
      "cell_type": "code",
      "execution_count": 7,
      "metadata": {
        "id": "WEf9j0pg2y_n"
      },
      "outputs": [
        {
          "name": "stdout",
          "output_type": "stream",
          "text": [
            "(569, 30)\n",
            "(569,)\n"
          ]
        }
      ],
      "source": [
        "print(df['data'].shape)\n",
        "print(df['target'].shape)"
      ]
    },
    {
      "cell_type": "markdown",
      "metadata": {
        "id": "5ykrQRQD_mT8"
      },
      "source": [
        "## Podział danych\n",
        "\n",
        "Użyj metody `train_test_split` z modułu `sklearn.model_selection` żeby podzielić zbiór na część treningową (90%) i testową (10%). Użyj straktyfikacji w podziale danych:"
      ]
    },
    {
      "cell_type": "code",
      "execution_count": 8,
      "metadata": {
        "id": "uo9XsNShP2pG"
      },
      "outputs": [],
      "source": [
        "from sklearn.model_selection import train_test_split\n",
        "\n",
        "x_train, x_test, y_train, y_test = train_test_split(df['data'], df['target'], test_size=0.1, random_state=42, stratify=df['target'])"
      ]
    },
    {
      "cell_type": "markdown",
      "metadata": {
        "id": "ZRJ8VIfhAAiI"
      },
      "source": [
        "Wczytaj następujące klasyfikatory:\n",
        "\n",
        "```\n",
        "from sklearn.linear_model import LinearRegression\n",
        "from sklearn.gaussian_process import GaussianProcessClassifier\n",
        "from sklearn.naive_bayes import GaussianNB\n",
        "from sklearn.neural_network import MLPClassifier\n",
        "from sklearn.svm import SVC\n",
        "from sklearn.neighbors import KNeighborsClassifier\n",
        "from sklearn.linear_model import SGDClassifier\n",
        "```"
      ]
    },
    {
      "cell_type": "code",
      "execution_count": 9,
      "metadata": {
        "id": "_KAwHzPCRqv_"
      },
      "outputs": [],
      "source": [
        "from sklearn.linear_model import LinearRegression\n",
        "from sklearn.gaussian_process import GaussianProcessClassifier\n",
        "from sklearn.naive_bayes import GaussianNB\n",
        "from sklearn.neural_network import MLPClassifier\n",
        "from sklearn.svm import SVC\n",
        "from sklearn.neighbors import KNeighborsClassifier\n",
        "from sklearn.linear_model import SGDClassifier\n",
        "\n"
      ]
    },
    {
      "cell_type": "markdown",
      "metadata": {
        "id": "3IZAQAAgALnD"
      },
      "source": [
        "Dla każdego klasyfikatora (skonstruowanego domyślnymi parametrami) zastosuj odpowiednio metody `fit` na danych treningowych i `score` na danych testowych żeby otrzymać jego dokładność. Zaleca się zrobić słownik poszczególnych modeli i uruchomić wszystko w pętli `for`. Co się stanie jak zmienimy podział danych (użyjemy metody split ponownie)?"
      ]
    },
    {
      "cell_type": "code",
      "execution_count": 10,
      "metadata": {
        "id": "ryQp-qLLS6Cx"
      },
      "outputs": [
        {
          "name": "stdout",
          "output_type": "stream",
          "text": [
            "LinearRegression: 0.6970003216389791\n",
            "GaussianProcessClassifier: 0.9298245614035088\n",
            "GaussianNB: 0.9824561403508771\n",
            "MLPClassifier: 0.8771929824561403\n",
            "SVC: 0.9298245614035088\n",
            "KNeighborsClassifier: 0.9122807017543859\n",
            "SGDClassifier: 0.9298245614035088\n"
          ]
        }
      ],
      "source": [
        "methods = {'LinearRegression': LinearRegression(), 'GaussianProcessClassifier': GaussianProcessClassifier(), 'GaussianNB': GaussianNB(), 'MLPClassifier': MLPClassifier(), 'SVC': SVC(), 'KNeighborsClassifier': KNeighborsClassifier(), 'SGDClassifier': SGDClassifier()}\n",
        "\n",
        "for(name, method) in methods.items():\n",
        "    method.fit(x_train, y_train)\n",
        "    print(\"{}: {}\".format(name, method.score(x_test, y_test)))\n"
      ]
    },
    {
      "cell_type": "markdown",
      "metadata": {
        "id": "oTu04IqeAdde"
      },
      "source": [
        "## Walidacja krzyżowa\n",
        "\n",
        "Przy niewielkim zbiorze danych, ciężko jest wydzielić reprezentatywny zbiór testowy. Jeden ze sposobów jest uruchomić cały proces kilka razy i raportować średnie i odchylenia uzyskanych wyników.\n",
        "\n",
        "Lepszym sposobem jest podzielić cały zbiór danych na `K` paczek i iteracyjnie użyć każdej paczki jako dane testowe, a wszystkie inne (w każdej iteracji) jako dane treningowe.\n",
        "\n",
        "Użyj klasy `StratifiedKFold` z modułu `sklearn.model_selection` żeby podzielić zbiór na 5 części i powtórz poprzedni eksperyment do liczenia dokładności modeli. Jako wynik podaj wartość średnią i odchylenie standardowe dla wsyzstkich podziałów danego modelu."
      ]
    },
    {
      "cell_type": "code",
      "execution_count": 11,
      "metadata": {
        "id": "X19cYwSUY6yi"
      },
      "outputs": [
        {
          "name": "stdout",
          "output_type": "stream",
          "text": [
            "LinearRegression mean: 0.7418421487834517\n",
            "LinearRegression mean: 0.04950362405910156\n",
            "GaussianProcessClassifier mean: 0.9156342182890855\n",
            "GaussianProcessClassifier mean: 0.007939761513869386\n",
            "GaussianNB mean: 0.9385343890700202\n",
            "GaussianNB mean: 0.026238414409424152\n",
            "MLPClassifier mean: 0.9069709672411116\n",
            "MLPClassifier mean: 0.04038828930262406\n",
            "SVC mean: 0.9138953578636858\n",
            "SVC mean: 0.027276908252279637\n",
            "KNeighborsClassifier mean: 0.9350100916006832\n",
            "KNeighborsClassifier mean: 0.021925077079469283\n",
            "SGDClassifier mean: 0.8576773792889303\n",
            "SGDClassifier mean: 0.046056212683787276\n"
          ]
        }
      ],
      "source": [
        "from sklearn.model_selection import StratifiedKFold\n",
        "from statistics import mean, stdev\n",
        "\n",
        "X = df['data']\n",
        "y = df['target']\n",
        "\n",
        "skf = StratifiedKFold(n_splits=5, shuffle=True, random_state=42)\n",
        "\n",
        "for (name, method) in methods.items():\n",
        "    acc = []\n",
        "    for train_index, test_index in skf.split(X, y):\n",
        "        x_train, x_test = X[train_index], X[test_index]\n",
        "        y_train, y_test = y[train_index], y[test_index]\n",
        "        method.fit(x_train, y_train)\n",
        "        acc.append(method.score(x_test, y_test))\n",
        "    \n",
        "    print(\"{} mean: {}\".format(name, mean(acc)))\n",
        "    print(\"{} mean: {}\".format(name, stdev(acc)))"
      ]
    },
    {
      "cell_type": "markdown",
      "metadata": {
        "id": "Nkd_xpDxBBXV"
      },
      "source": [
        "Naturalnym pytaniem jest jaką wartość wybrać dla parametru `K`. Im więcej paczek użyjemy, tym większa wariancja w wynikach. Dużo paczek oznacza mniejsze ryzyko biasu w eksperymentach, ale testy są robione na mniejszej ilości danych i przez to są bardziej chaotyczne. Mniej paczek oznacza bardziej dokładne wyniki testów, ale jest ryzyko że dane w ustalonych podziałach będa mniej reprezentatywne dla ogółu problemu. W skrajnym przypadku możemy użyć tyle paczek ile jest próbek - ta metoda nazywa się Leave-One-Out.\n",
        "\n",
        "Powtórz te same eksperymenty co poprzednio używając klasy `LeaveOneOut`, ale dla osczędności czasu użyj tylko jednego klasyfikatora (np SVC):"
      ]
    },
    {
      "cell_type": "code",
      "execution_count": 12,
      "metadata": {
        "id": "2zLUjI_ubI9E"
      },
      "outputs": [
        {
          "name": "stdout",
          "output_type": "stream",
          "text": [
            "SVC mean: 0.8840070298769771\n",
            "SVC stdev: 0.32049824759436235\n"
          ]
        }
      ],
      "source": [
        "from sklearn.model_selection import LeaveOneOut\n",
        "\n",
        "loo = LeaveOneOut()\n",
        "svc = SVC()\n",
        "\n",
        "accuracies = []\n",
        "\n",
        "for train_index, test_index in loo.split(X, y):\n",
        "    x_train, x_test = X[train_index], X[test_index]\n",
        "    y_train, y_test = y[train_index], y[test_index]\n",
        "    method.fit(x_train, y_train)\n",
        "    accuracies.append(method.score(x_test, y_test))\n",
        "\n",
        "print('SVC mean: {}'.format(mean(accuracies)))\n",
        "print('SVC stdev: {}'.format(stdev(accuracies)))"
      ]
    },
    {
      "cell_type": "markdown",
      "metadata": {
        "id": "GG36TOpFBVRl"
      },
      "source": [
        "## Miary jakości modelu\n",
        "\n",
        "Wczytaj następujące metody:\n",
        "```\n",
        "from sklearn.metrics import precision_recall_fscore_support, accuracy_score, confusion_matrix, roc_curve, roc_auc_score, classification_report\n",
        "```\n",
        "\n",
        "Zrób zwykły podział train/test 90/10. Dla wszystkich modeli oprócz regresji liniowej, zastosuj odpowiednio metody `fit` na danych treningowych i `predict` na danych testowych. Potem policz odpowiednio dokładność (`accuracy_score`), precyzję (`precision`), czułóść (`recall`), f-score i macierz konfuzji dla poszczególnych klasyfikatorów. Użyj też metody `classification_report` żeby zobaczyć ogólny raport:"
      ]
    },
    {
      "cell_type": "code",
      "execution_count": 13,
      "metadata": {
        "id": "12-EfRooc8VY"
      },
      "outputs": [
        {
          "name": "stdout",
          "output_type": "stream",
          "text": [
            "GaussianProcessClassifier accuracy: 0.9298245614035088\n",
            "GaussianProcessClassifier precission: 0.9444444444444444\n",
            "GaussianProcessClassifier recall: 0.9444444444444444\n",
            "GaussianProcessClassifier f1: 0.9444444444444444\n",
            "GaussianProcessClassifier confusion: [[19  2]\n",
            " [ 2 34]]\n",
            "GaussianProcessClassifier report:               precision    recall  f1-score   support\n",
            "\n",
            "           0       0.90      0.90      0.90        21\n",
            "           1       0.94      0.94      0.94        36\n",
            "\n",
            "    accuracy                           0.93        57\n",
            "   macro avg       0.92      0.92      0.92        57\n",
            "weighted avg       0.93      0.93      0.93        57\n",
            "\n",
            "GaussianNB accuracy: 0.9824561403508771\n",
            "GaussianNB precission: 0.972972972972973\n",
            "GaussianNB recall: 1.0\n",
            "GaussianNB f1: 0.9863013698630138\n",
            "GaussianNB confusion: [[20  1]\n",
            " [ 0 36]]\n",
            "GaussianNB report:               precision    recall  f1-score   support\n",
            "\n",
            "           0       1.00      0.95      0.98        21\n",
            "           1       0.97      1.00      0.99        36\n",
            "\n",
            "    accuracy                           0.98        57\n",
            "   macro avg       0.99      0.98      0.98        57\n",
            "weighted avg       0.98      0.98      0.98        57\n",
            "\n",
            "MLPClassifier accuracy: 0.8947368421052632\n",
            "MLPClassifier precission: 0.9166666666666666\n",
            "MLPClassifier recall: 0.9166666666666666\n",
            "MLPClassifier f1: 0.9166666666666666\n",
            "MLPClassifier confusion: [[18  3]\n",
            " [ 3 33]]\n",
            "MLPClassifier report:               precision    recall  f1-score   support\n",
            "\n",
            "           0       0.86      0.86      0.86        21\n",
            "           1       0.92      0.92      0.92        36\n",
            "\n",
            "    accuracy                           0.89        57\n",
            "   macro avg       0.89      0.89      0.89        57\n",
            "weighted avg       0.89      0.89      0.89        57\n",
            "\n",
            "SVC accuracy: 0.9298245614035088\n",
            "SVC precission: 0.9210526315789473\n",
            "SVC recall: 0.9722222222222222\n",
            "SVC f1: 0.9459459459459458\n",
            "SVC confusion: [[18  3]\n",
            " [ 1 35]]\n",
            "SVC report:               precision    recall  f1-score   support\n",
            "\n",
            "           0       0.95      0.86      0.90        21\n",
            "           1       0.92      0.97      0.95        36\n",
            "\n",
            "    accuracy                           0.93        57\n",
            "   macro avg       0.93      0.91      0.92        57\n",
            "weighted avg       0.93      0.93      0.93        57\n",
            "\n",
            "KNeighborsClassifier accuracy: 0.9122807017543859\n",
            "KNeighborsClassifier precission: 0.9428571428571428\n",
            "KNeighborsClassifier recall: 0.9166666666666666\n",
            "KNeighborsClassifier f1: 0.9295774647887323\n",
            "KNeighborsClassifier confusion: [[19  2]\n",
            " [ 3 33]]\n",
            "KNeighborsClassifier report:               precision    recall  f1-score   support\n",
            "\n",
            "           0       0.86      0.90      0.88        21\n",
            "           1       0.94      0.92      0.93        36\n",
            "\n",
            "    accuracy                           0.91        57\n",
            "   macro avg       0.90      0.91      0.91        57\n",
            "weighted avg       0.91      0.91      0.91        57\n",
            "\n",
            "SGDClassifier accuracy: 0.8947368421052632\n",
            "SGDClassifier precission: 0.8571428571428571\n",
            "SGDClassifier recall: 1.0\n",
            "SGDClassifier f1: 0.923076923076923\n",
            "SGDClassifier confusion: [[15  6]\n",
            " [ 0 36]]\n",
            "SGDClassifier report:               precision    recall  f1-score   support\n",
            "\n",
            "           0       1.00      0.71      0.83        21\n",
            "           1       0.86      1.00      0.92        36\n",
            "\n",
            "    accuracy                           0.89        57\n",
            "   macro avg       0.93      0.86      0.88        57\n",
            "weighted avg       0.91      0.89      0.89        57\n",
            "\n"
          ]
        },
        {
          "name": "stderr",
          "output_type": "stream",
          "text": [
            "c:\\Users\\ostri\\anaconda3\\lib\\site-packages\\sklearn\\neural_network\\_multilayer_perceptron.py:582: ConvergenceWarning: Stochastic Optimizer: Maximum iterations (200) reached and the optimization hasn't converged yet.\n",
            "  warnings.warn(\n"
          ]
        }
      ],
      "source": [
        "from sklearn.metrics import precision_recall_fscore_support, accuracy_score, confusion_matrix, roc_curve, roc_auc_score, classification_report, recall_score, precision_score, f1_score, auc\n",
        "\n",
        "x_train, x_test, y_train, y_test = train_test_split(df['data'], df['target'], test_size=0.1, random_state=42, stratify=df['target'])\n",
        "\n",
        "methods = {'GaussianProcessClassifier': GaussianProcessClassifier(), 'GaussianNB': GaussianNB(), 'MLPClassifier': MLPClassifier(), 'SVC': SVC(), 'KNeighborsClassifier': KNeighborsClassifier(), 'SGDClassifier': SGDClassifier()}\n",
        "\n",
        "\n",
        "for(name, method) in methods.items():\n",
        "    method.fit(x_train, y_train)\n",
        "    predict = method.predict(x_test)\n",
        "    metrics = {'accuracy': accuracy_score(y_test, predict), 'precission': precision_score(y_test, predict), 'recall': recall_score(y_test, predict), 'f1': f1_score(y_test, predict), 'confusion': confusion_matrix(y_test, predict), 'report': classification_report(y_test, predict) }\n",
        "    for metric_name, metric in metrics.items():\n",
        "        print('{} {}: {}'.format(name, metric_name, metric))\n",
        "    "
      ]
    },
    {
      "cell_type": "markdown",
      "metadata": {
        "id": "6KJRuISZCUpf"
      },
      "source": [
        "## ROC i AUC\n",
        "\n",
        "Użyj wszystkich modeli oprócz regresji liniowej i GPC, a dla SVC dodaj parametr `probability=True`. Użyj walidacji krzyżowej żeby wytrenować każdy z modeli i policzyć `predict_proba` dla całego zbioru. Potem policz `roc_curve` i `auc_score` dla wszystkich modeli i narysuj na wykresie. \n",
        "\n",
        "Najpierw użyj tych poleceń żeby otrzymać pusty wykres ROC:\n",
        "\n",
        "```\n",
        "figure(figsize=(5,5))\n",
        "plot([0,1],[0,1],color='black',lw=2,linestyle='--')\n",
        "xlabel('1 - specificity')\n",
        "ylabel('sensitivity')\n",
        "title('ROC')\n",
        "```\n",
        "\n",
        "Dla każdego klasyfikatora użyj metody `plot` żeby narysować wartości `x=fpr` i `y=tpr` z metody `roc_curve`, a jako `label` ustaw nazwę modelu i jego `AUC`. Na końcu uruchom metodę `legend(loc='lower right')` żeby narysować legendę w dolnym prawym rogu wykresu."
      ]
    },
    {
      "cell_type": "code",
      "execution_count": 14,
      "metadata": {
        "id": "q4tc6lh_dUmH"
      },
      "outputs": [
        {
          "name": "stdout",
          "output_type": "stream",
          "text": [
            "GaussianNB mean: 0.9385343890700202\n",
            "MLPClassifier mean: 0.9262381617761217\n",
            "SVC mean: 0.9138953578636858\n",
            "KNeighborsClassifier mean: 0.9350100916006832\n",
            "SGDClassifier mean: 0.9244837758112094\n"
          ]
        },
        {
          "name": "stderr",
          "output_type": "stream",
          "text": [
            "c:\\Users\\ostri\\anaconda3\\lib\\site-packages\\sklearn\\neural_network\\_multilayer_perceptron.py:582: ConvergenceWarning: Stochastic Optimizer: Maximum iterations (200) reached and the optimization hasn't converged yet.\n",
            "  warnings.warn(\n"
          ]
        },
        {
          "data": {
            "text/plain": [
              "<matplotlib.legend.Legend at 0x22bc40c1430>"
            ]
          },
          "execution_count": 14,
          "metadata": {},
          "output_type": "execute_result"
        },
        {
          "data": {
            "image/png": "[encoded data removed]",
            "text/plain": [
              "<Figure size 360x360 with 1 Axes>"
            ]
          },
          "metadata": {
            "needs_background": "light"
          },
          "output_type": "display_data"
        }
      ],
      "source": [
        "import matplotlib.pyplot as plt\n",
        "\n",
        "methods = {'GaussianNB': GaussianNB(), 'MLPClassifier': MLPClassifier(), 'SVC': SVC(probability=True), 'KNeighborsClassifier': KNeighborsClassifier(), 'SGDClassifier': SGDClassifier(loss='log')}\n",
        "\n",
        "X = df['data']\n",
        "y = df['target']\n",
        "\n",
        "skf = StratifiedKFold(n_splits=5, shuffle=True, random_state=42)\n",
        "\n",
        "plt.figure(figsize=(5,5))\n",
        "plt.plot([0,1], [0,1], color='black', linewidth=2, linestyle='--')\n",
        "plt.xlabel('1 - specificity')\n",
        "plt.ylabel('sensitivity')\n",
        "plt.title('ROC')\n",
        "\n",
        "for (name, method) in methods.items():\n",
        "    acc = []\n",
        "    for train_index, test_index in skf.split(X, y):\n",
        "        x_train, x_test = X[train_index], X[test_index]\n",
        "        y_train, y_test = y[train_index], y[test_index]\n",
        "        method.fit(x_train, y_train)\n",
        "        acc.append(method.score(x_test, y_test))\n",
        "    \n",
        "    predict = method.predict_proba(x_test)\n",
        "\n",
        "    print(\"{} mean: {}\".format(name, mean(acc)))\n",
        "    fpr, tpr, thresholds = roc_curve(y_test, predict[:,1])\n",
        "    auc_score = roc_auc_score(y_test, predict[:,1], average=None)\n",
        "    plt.plot(fpr, tpr, label='{} (AUC = {})'.format(name, auc_score))\n",
        "\n",
        "\n",
        "\n",
        "\n",
        "plt.legend(loc='lower right')"
      ]
    },
    {
      "cell_type": "markdown",
      "metadata": {
        "id": "k23B89bxYaLp"
      },
      "source": [
        "# Zadanie 1. -- Klasyfikacja wieloetykietowa\n",
        "\n",
        "Powtórz powyższe zadania na zbiorze danych win uzyskanego metodą `load_wine` z modułu `sklearn.datasets`. Warto zwrócić uwagę, że ten zbiór definiuje 3 różne klasy.\n",
        "\n",
        "Użyj `sklearn.multiclass.OneVsRestClassifier` żeby zastosować poprzednie klasyfikatory na nowych danych.\n",
        "\n",
        "Przy liczeniu krzywy ROC i wartości AUC użyj `sklearn.preprocessing.label_binarize` na referncji i metody `ravel()` na macierzach wyjściowych przed narysowaniem."
      ]
    },
    {
      "cell_type": "code",
      "execution_count": 15,
      "metadata": {
        "id": "1nSoMv9QZy2q"
      },
      "outputs": [
        {
          "name": "stdout",
          "output_type": "stream",
          "text": [
            "dict_keys(['data', 'target', 'frame', 'target_names', 'DESCR', 'feature_names'])\n",
            "['alcohol', 'malic_acid', 'ash', 'alcalinity_of_ash', 'magnesium', 'total_phenols', 'flavanoids', 'nonflavanoid_phenols', 'proanthocyanins', 'color_intensity', 'hue', 'od280/od315_of_diluted_wines', 'proline']\n",
            "['class_0' 'class_1' 'class_2']\n",
            "(178, 13)\n",
            "(178,)\n"
          ]
        }
      ],
      "source": [
        "from sklearn.datasets import load_wine\n",
        "from sklearn.multiclass import OneVsRestClassifier\n",
        "from sklearn.preprocessing import label_binarize\n",
        "import numpy as np\n",
        "\n",
        "df_wine = load_wine()\n",
        "print(df_wine.keys())\n",
        "print(df_wine['feature_names'])\n",
        "print(df_wine['target_names'])\n",
        "print(df_wine['data'].shape)\n",
        "print(df_wine['target'].shape)"
      ]
    },
    {
      "cell_type": "code",
      "execution_count": 16,
      "metadata": {},
      "outputs": [
        {
          "name": "stdout",
          "output_type": "stream",
          "text": [
            "GaussianNB mean: 0.9719047619047619\n"
          ]
        },
        {
          "name": "stderr",
          "output_type": "stream",
          "text": [
            "c:\\Users\\ostri\\anaconda3\\lib\\site-packages\\sklearn\\neural_network\\_multilayer_perceptron.py:582: ConvergenceWarning: Stochastic Optimizer: Maximum iterations (200) reached and the optimization hasn't converged yet.\n",
            "  warnings.warn(\n",
            "c:\\Users\\ostri\\anaconda3\\lib\\site-packages\\sklearn\\neural_network\\_multilayer_perceptron.py:582: ConvergenceWarning: Stochastic Optimizer: Maximum iterations (200) reached and the optimization hasn't converged yet.\n",
            "  warnings.warn(\n",
            "c:\\Users\\ostri\\anaconda3\\lib\\site-packages\\sklearn\\neural_network\\_multilayer_perceptron.py:582: ConvergenceWarning: Stochastic Optimizer: Maximum iterations (200) reached and the optimization hasn't converged yet.\n",
            "  warnings.warn(\n",
            "c:\\Users\\ostri\\anaconda3\\lib\\site-packages\\sklearn\\neural_network\\_multilayer_perceptron.py:582: ConvergenceWarning: Stochastic Optimizer: Maximum iterations (200) reached and the optimization hasn't converged yet.\n",
            "  warnings.warn(\n",
            "c:\\Users\\ostri\\anaconda3\\lib\\site-packages\\sklearn\\neural_network\\_multilayer_perceptron.py:582: ConvergenceWarning: Stochastic Optimizer: Maximum iterations (200) reached and the optimization hasn't converged yet.\n",
            "  warnings.warn(\n",
            "c:\\Users\\ostri\\anaconda3\\lib\\site-packages\\sklearn\\neural_network\\_multilayer_perceptron.py:582: ConvergenceWarning: Stochastic Optimizer: Maximum iterations (200) reached and the optimization hasn't converged yet.\n",
            "  warnings.warn(\n"
          ]
        },
        {
          "name": "stdout",
          "output_type": "stream",
          "text": [
            "MLPClassifier mean: 0.5858730158730159\n",
            "SVC mean: 0.6853968253968253\n",
            "KNeighborsClassifier mean: 0.6857142857142857\n",
            "SGDClassifier mean: 0.5457142857142857\n"
          ]
        },
        {
          "data": {
            "image/png": "[encoded data removed]",
            "text/plain": [
              "<Figure size 360x360 with 1 Axes>"
            ]
          },
          "metadata": {
            "needs_background": "light"
          },
          "output_type": "display_data"
        }
      ],
      "source": [
        "x_train, x_test, y_train, y_test = train_test_split(df_wine['data'], df_wine['target'], test_size=0.2, random_state=42, stratify=df_wine['target'])\n",
        "methods = {'GaussianNB': GaussianNB(), 'MLPClassifier': MLPClassifier(), 'SVC': SVC(probability=True), 'KNeighborsClassifier': KNeighborsClassifier(), 'SGDClassifier': SGDClassifier(loss='log')}\n",
        "\n",
        "x = df_wine['data']\n",
        "y = df_wine['target']\n",
        "\n",
        "skf = StratifiedKFold(n_splits=5, shuffle=True, random_state=42)\n",
        "\n",
        "plt.figure(figsize=(5,5))\n",
        "plt.plot([0,1], [0,1], color='black', linewidth=2, linestyle='--')\n",
        "plt.xlabel('1 - specificity')\n",
        "plt.ylabel('sensitivity')\n",
        "plt.title('ROC')\n",
        "\n",
        "for (name, method) in methods.items():\n",
        "    acc = []\n",
        "    for train_index, test_index in skf.split(x, y):\n",
        "        x_train, x_test = x[train_index], x[test_index]\n",
        "        y_train, y_test = y[train_index], y[test_index]\n",
        "        onevsrest = OneVsRestClassifier(method)\n",
        "        onevsrest.fit(x_train, y_train)\n",
        "        acc.append(onevsrest.score(x_test, y_test))\n",
        "    \n",
        "    print(\"{} mean: {}\".format(name, mean(acc)))\n",
        "    predict = onevsrest.predict(x_test)\n",
        "\n",
        "    y_test = label_binarize(y_test, classes=[0,1,2])\n",
        "    predict = label_binarize(predict, classes=[0,1,2])\n",
        "\n",
        "    fpr = dict()\n",
        "    tpr = dict()\n",
        "    roc_auc = dict()\n",
        "\n",
        "\n",
        "    for i in range(3):\n",
        "        fpr[i], tpr[i], _ = roc_curve(y_test[:, i], predict[:, i])\n",
        "        roc_auc[i] = auc(fpr[i], tpr[i])\n",
        "    \n",
        "    fpr[\"micro\"], tpr[\"micro\"], _ = roc_curve(y_test.ravel(), predict.ravel())\n",
        "    roc_auc[\"micro\"] = auc(fpr[\"micro\"], tpr[\"micro\"])\n",
        "    plt.plot(fpr[\"micro\"], tpr[\"micro\"], label='{} (AUC = {})'.format(name, roc_auc[\"micro\"]))\n",
        "    plt.legend(loc='lower right')\n",
        "\n"
      ]
    },
    {
      "cell_type": "markdown",
      "metadata": {
        "id": "GCpAekshhd7S"
      },
      "source": [
        "# Zadanie 2. -- Optymalizacja hiperparametru\n",
        "\n",
        "Użyj podwójnej walidacji krzyżowej żeby znaleźć średnią skuteczność klasyfikatora SVC (na danych `load_breast_cancer`) dla optymalnego parametru `C`.\n",
        "\n",
        "Należy użyć podwójnej metody K-Fold: najpierw dzielimy zbiór na train/test, a potem w każdej iteracji zbiór train dodatowko dzielimy na train/dev kolejną pętlą walidacji krzyżowej. Za pomocą podziału train/dev szukamy jaki parametr `C` daje najlepszy wynik (załóżmy że przetestujemy ~10 różnych wartości równomiernie rozłożonych od 0.2 do 2 ), a potem użyjemy tą optymalną wartość żeby dokonać eksperymentu na zbiorze test."
      ]
    },
    {
      "cell_type": "code",
      "execution_count": 36,
      "metadata": {
        "id": "IAXdcebjhcBw"
      },
      "outputs": [
        {
          "name": "stdout",
          "output_type": "stream",
          "text": [
            "[0.8771929824561403, 0.9122807017543859, 0.9298245614035088, 0.9385964912280702, 0.9026548672566371]\n",
            "Best acc for: 1.2 that had accuracy: 0.9315068493150684\n",
            "Mean accuracy for best C: 0.9121099208197485\n"
          ]
        }
      ],
      "source": [
        "from sklearn.model_selection import RepeatedStratifiedKFold\n",
        "from sklearn.model_selection import cross_val_score\n",
        "\n",
        "\n",
        "X = df['data']\n",
        "y = df['target']\n",
        "x_train, x_test, y_train, y_test = train_test_split(df_wine['data'], df_wine['target'], test_size=0.2, random_state=42, stratify=df_wine['target'])\n",
        "\n",
        "model = SVC()\n",
        "c_val = [0.2, 0.4, 0.6, 0.8, 1.0, 1.2, 1.4, 1.6, 1.8, 2.0]\n",
        "kfold = StratifiedKFold(n_splits=5, random_state=42)\n",
        "sec_kfold = StratifiedKFold(n_splits=5, random_state=42)\n",
        "acc_table = []\n",
        "\n",
        "for train_index, test_index in kfold.split(X, y):\n",
        "    max_acc = 0\n",
        "    x_train, x_test = X[train_index], X[test_index]\n",
        "    y_train, y_test = y[train_index], y[test_index]\n",
        "    for train_index1, test_index1 in sec_kfold.split(x_train, y_train):\n",
        "        x_train1, x_test1 = x_train[train_index1], x_train[test_index1]\n",
        "        y_train1, y_test1 = y_train[train_index1], y_train[test_index1]\n",
        "        for c in c_val:\n",
        "            model.set_params(C=c)\n",
        "            model.fit(x_train1, y_train1)\n",
        "            if model.score(x_train1, y_train1) > max_acc:\n",
        "                max_acc = model.score(x_train1, y_train1)\n",
        "                best_c = c\n",
        "    model.set_params(C=best_c)\n",
        "    model.fit(x_test, y_test)\n",
        "    acc_table.append(model.score(x_test, y_test))\n",
        "\n",
        "\n",
        "print('Best acc for: {} that had accuracy: {}'.format(best_c, max_acc))      \n",
        "print('Mean accuracy for best C: {}'.format(mean(acc_table)))\n",
        "          \n",
        "\n",
        "\n"
      ]
    }
  ],
  "metadata": {
    "colab": {
      "collapsed_sections": [],
      "name": "Zadanie 4.ipynb",
      "provenance": []
    },
    "interpreter": {
      "hash": "553c084b0e536f96f7891ad999058cd2eb4ec846ce0dc1b667c809e18608d613"
    },
    "kernelspec": {
      "display_name": "Python 3.8.5 ('base')",
      "language": "python",
      "name": "python3"
    },
    "language_info": {
      "codemirror_mode": {
        "name": "ipython",
        "version": 3
      },
      "file_extension": ".py",
      "mimetype": "text/x-python",
      "name": "python",
      "nbconvert_exporter": "python",
      "pygments_lexer": "ipython3",
      "version": "3.8.5"
    }
  },
  "nbformat": 4,
  "nbformat_minor": 0
}
